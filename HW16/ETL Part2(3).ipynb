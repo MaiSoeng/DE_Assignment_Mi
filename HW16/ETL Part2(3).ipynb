{
	"metadata": {
		"kernelspec": {
			"name": "glue_pyspark",
			"display_name": "Glue PySpark",
			"language": "python"
		},
		"language_info": {
			"name": "Python_Glue_Session",
			"mimetype": "text/x-python",
			"codemirror_mode": {
				"name": "python",
				"version": 3
			},
			"pygments_lexer": "python3",
			"file_extension": ".py"
		}
	},
	"nbformat_minor": 4,
	"nbformat": 4,
	"cells": [
		{
			"cell_type": "markdown",
			"source": "# AWS Glue Studio Notebook\n##### You are now running a AWS Glue Studio notebook; To start using your notebook you need to start an AWS Glue Interactive Session.\n",
			"metadata": {
				"editable": true,
				"trusted": true
			}
		},
		{
			"cell_type": "markdown",
			"source": "#### Optional: Run this cell to see available notebook commands (\"magics\").\n",
			"metadata": {
				"editable": true,
				"trusted": true
			}
		},
		{
			"cell_type": "code",
			"source": "%help",
			"metadata": {
				"trusted": true,
				"editable": true
			},
			"execution_count": 2,
			"outputs": [
				{
					"name": "stdout",
					"text": "Welcome to the Glue Interactive Sessions Kernel\nFor more information on available magic commands, please type %help in any new cell.\n\nPlease view our Getting Started page to access the most up-to-date information on the Interactive Sessions kernel: https://docs.aws.amazon.com/glue/latest/dg/interactive-sessions.html\nInstalled kernel version: 1.0.8 \n",
					"output_type": "stream"
				},
				{
					"output_type": "display_data",
					"data": {
						"text/markdown": "\n# Available Magic Commands\n\n## Sessions Magic\n\n----\n    %help                             Return a list of descriptions and input types for all magic commands. \n    %profile            String        Specify a profile in your aws configuration to use as the credentials provider.\n    %region             String        Specify the AWS region in which to initialize a session. \n                                      Default from ~/.aws/config on Linux or macOS, \n                                      or C:\\Users\\ USERNAME \\.aws\\config\" on Windows.\n    %idle_timeout       Int           The number of minutes of inactivity after which a session will timeout. \n                                      Default: 2880 minutes (48 hours).\n    %timeout            Int           The number of minutes after which a session will timeout. \n                                      Default: 2880 minutes (48 hours).\n    %session_id_prefix  String        Define a String that will precede all session IDs in the format \n                                      [session_id_prefix]-[session_id]. If a session ID is not provided,\n                                      a random UUID will be generated.\n    %status                           Returns the status of the current Glue session including its duration, \n                                      configuration and executing user / role.\n    %session_id                       Returns the session ID for the running session.\n    %list_sessions                    Lists all currently running sessions by ID.\n    %stop_session                     Stops the current session.\n    %glue_version       String        The version of Glue to be used by this session. \n                                      Currently, the only valid options are 2.0, 3.0 and 4.0. \n                                      Default: 2.0.\n    %reconnect          String        Specify a live session ID to switch/reconnect to the sessions.\n----\n\n## Selecting Session Types\n\n----\n    %streaming          String        Sets the session type to Glue Streaming.\n    %etl                String        Sets the session type to Glue ETL.\n    %session_type       String        Specify a session_type to be used. Supported values: streaming and etl.\n----\n\n## Glue Config Magic \n*(common across all session types)*\n\n----\n\n    %%configure         Dictionary    A json-formatted dictionary consisting of all configuration parameters for \n                                      a session. Each parameter can be specified here or through individual magics.\n    %iam_role           String        Specify an IAM role ARN to execute your session with.\n                                      Default from ~/.aws/config on Linux or macOS, \n                                      or C:\\Users\\%USERNAME%\\.aws\\config` on Windows.\n    %number_of_workers  int           The number of workers of a defined worker_type that are allocated \n                                      when a session runs.\n                                      Default: 5.\n    %additional_python_modules  List  Comma separated list of additional Python modules to include in your cluster \n                                      (can be from Pypi or S3).\n    %%tags        Dictionary          Specify a json-formatted dictionary consisting of tags to use in the session.\n    \n    %%assume_role Dictionary, String  Specify a json-formatted dictionary or an IAM role ARN string to create a session \n                                      for cross account access.\n                                      E.g. {valid arn}\n                                      %%assume_role \n                                      'arn:aws:iam::XXXXXXXXXXXX:role/AWSGlueServiceRole' \n                                      E.g. {credentials}\n                                      %%assume_role\n                                      {\n                                            \"aws_access_key_id\" : \"XXXXXXXXXXXX\",\n                                            \"aws_secret_access_key\" : \"XXXXXXXXXXXX\",\n                                            \"aws_session_token\" : \"XXXXXXXXXXXX\"\n                                       }\n----\n\n                                      \n## Magic for Spark Sessions (ETL & Streaming)\n\n----\n    %worker_type        String        Set the type of instances the session will use as workers. \n    %connections        List          Specify a comma separated list of connections to use in the session.\n    %extra_py_files     List          Comma separated list of additional Python files From S3.\n    %extra_jars         List          Comma separated list of additional Jars to include in the cluster.\n    %spark_conf         String        Specify custom spark configurations for your session. \n                                      E.g. %spark_conf spark.serializer=org.apache.spark.serializer.KryoSerializer\n----\n\n## Action Magic\n\n----\n\n    %%sql               String        Run SQL code. All lines after the initial %%sql magic will be passed\n                                      as part of the SQL code.  \n    %matplot      Matplotlib figure   Visualize your data using the matplotlib library.\n                                      E.g. \n                                      import matplotlib.pyplot as plt\n                                      # Set X-axis and Y-axis values\n                                      x = [5, 2, 8, 4, 9]\n                                      y = [10, 4, 8, 5, 2]\n                                      # Create a bar chart \n                                      plt.bar(x, y) \n                                      # Show the plot\n                                      %matplot plt    \n    %plotly            Plotly figure  Visualize your data using the plotly library.\n                                      E.g.\n                                      import plotly.express as px\n                                      #Create a graphical figure\n                                      fig = px.line(x=[\"a\",\"b\",\"c\"], y=[1,3,2], title=\"sample figure\")\n                                      #Show the figure\n                                      %plotly fig\n\n  \n                \n----\n\n"
					},
					"metadata": {}
				}
			]
		},
		{
			"cell_type": "markdown",
			"source": "####  Run this cell to set up and start your interactive session.\n",
			"metadata": {
				"editable": true,
				"trusted": true
			}
		},
		{
			"cell_type": "code",
			"source": "%idle_timeout 2880\n%glue_version 5.0\n%worker_type G.1X\n%number_of_workers 5\n\nimport sys\nfrom awsglue.transforms import *\nfrom awsglue.utils import getResolvedOptions\nfrom pyspark.context import SparkContext\nfrom awsglue.context import GlueContext\nfrom awsglue.job import Job\n\n# set args\npossible = [\"JOB_NAME\", \"database_name\", \"table_name\", \"output_path\", \"WRITE_MODE\", \"push_down_predicate\"]\npresent = [p for p in possible if f\"--{p}\" in sys.argv]\nargs = getResolvedOptions(sys.argv, present) if present else {}\n\nJOB_NAME  = args.get(\"JOB_NAME\", \"ETL Part2\")\nDB_NAME   = args.get(\"database_name\", \"nyc_taxi_database\")\nTBL_NAME  = args.get(\"table_name\", \"data\")\nOUT_S3    = (args.get(\"output_path\", \"s3://homework16-data-bucket/output/\").rstrip(\"/\") + \"/\")\nWRITE_MODE = args.get(\"WRITE_MODE\", \"append\").lower()   # append | overwrite\nPREDICATE = args.get(\"push_down_predicate\", \"\")\n\n# initialize Glue and Spark\nsc = SparkContext.getOrCreate()\nglueContext = GlueContext(sc)\nspark = glueContext.spark_session\njob = Job(glueContext)\njob.init(JOB_NAME, args)\nspark.conf.set(\"spark.sql.shuffle.partitions\", \"80\")\nspark.conf.set(\"spark.sql.adaptive.enabled\", \"true\")\nspark.conf.set(\"spark.sql.adaptive.coalescePartitions.enabled\", \"true\")\n",
			"metadata": {
				"trusted": true,
				"editable": true
			},
			"execution_count": 2,
			"outputs": [
				{
					"name": "stderr",
					"text": "You are already connected to a glueetl session 40ef9c09-5311-409c-aa73-cdf8a11f66e3.\n\nNo change will be made to the current session that is set as glueetl. The session configuration change will apply to newly created sessions.\n",
					"output_type": "stream"
				},
				{
					"name": "stdout",
					"text": "Current idle_timeout is 2880 minutes.\nidle_timeout has been set to 2880 minutes.\n",
					"output_type": "stream"
				},
				{
					"name": "stderr",
					"text": "You are already connected to a glueetl session 40ef9c09-5311-409c-aa73-cdf8a11f66e3.\n\nNo change will be made to the current session that is set as glueetl. The session configuration change will apply to newly created sessions.\n",
					"output_type": "stream"
				},
				{
					"name": "stdout",
					"text": "Setting Glue version to: 5.0\n",
					"output_type": "stream"
				},
				{
					"name": "stderr",
					"text": "You are already connected to a glueetl session 40ef9c09-5311-409c-aa73-cdf8a11f66e3.\n\nNo change will be made to the current session that is set as glueetl. The session configuration change will apply to newly created sessions.\n",
					"output_type": "stream"
				},
				{
					"name": "stdout",
					"text": "Previous worker type: G.1X\nSetting new worker type to: G.1X\n",
					"output_type": "stream"
				},
				{
					"name": "stderr",
					"text": "You are already connected to a glueetl session 40ef9c09-5311-409c-aa73-cdf8a11f66e3.\n\nNo change will be made to the current session that is set as glueetl. The session configuration change will apply to newly created sessions.\n",
					"output_type": "stream"
				},
				{
					"name": "stdout",
					"text": "Previous number of workers: 5\nSetting new number of workers to: 5\n\n",
					"output_type": "stream"
				}
			]
		},
		{
			"cell_type": "code",
			"source": "# Serves as a demo to test and run code in data transformation task\n# specify where the data is stored in S3\n\"\"\"\nS3_INPUT = \"s3://homework16-data-bucket/\"   \nDRY_RUN  = False                                 # do not need to generate data\n\n# set up RDS connection\nRDS_JDBC_URL = \"jdbc:mysql://nyc-taxi-mysql.ck3aqgcwi4y2.us-east-1.rds.amazonaws.com:3306/nyc_taxi\"  \nRDS_TABLE    = \"hw16_ETL_Table\"\n\"\"\"",
			"metadata": {
				"trusted": true,
				"editable": true
			},
			"execution_count": 2,
			"outputs": [
				{
					"name": "stdout",
					"text": "\n",
					"output_type": "stream"
				}
			]
		},
		{
			"cell_type": "code",
			"source": "# show the data\n\"\"\"\ndf = spark.read.parquet(S3_INPUT)\ndf.show()\n\"\"\"",
			"metadata": {
				"trusted": true,
				"editable": true
			},
			"execution_count": 3,
			"outputs": [
				{
					"name": "stdout",
					"text": "+--------+--------------------+---------------------+---------------+-------------+----------+------------------+------------+------------+------------+-----------+-----+-------+----------+------------+---------------------+------------+--------------------+-----------+------------------+\n|VendorID|tpep_pickup_datetime|tpep_dropoff_datetime|passenger_count|trip_distance|RatecodeID|store_and_fwd_flag|PULocationID|DOLocationID|payment_type|fare_amount|extra|mta_tax|tip_amount|tolls_amount|improvement_surcharge|total_amount|congestion_surcharge|Airport_fee|cbd_congestion_fee|\n+--------+--------------------+---------------------+---------------+-------------+----------+------------------+------------+------------+------------+-----------+-----+-------+----------+------------+---------------------+------------+--------------------+-----------+------------------+\n|       1| 2025-01-01 00:18:38|  2025-01-01 00:26:59|              1|          1.6|         1|                 N|         229|         237|           1|       10.0|  3.5|    0.5|       3.0|         0.0|                  1.0|        18.0|                 2.5|        0.0|               0.0|\n|       1| 2025-01-01 00:32:40|  2025-01-01 00:35:13|              1|          0.5|         1|                 N|         236|         237|           1|        5.1|  3.5|    0.5|      2.02|         0.0|                  1.0|       12.12|                 2.5|        0.0|               0.0|\n|       1| 2025-01-01 00:44:04|  2025-01-01 00:46:01|              1|          0.6|         1|                 N|         141|         141|           1|        5.1|  3.5|    0.5|       2.0|         0.0|                  1.0|        12.1|                 2.5|        0.0|               0.0|\n|       2| 2025-01-01 00:14:27|  2025-01-01 00:20:01|              3|         0.52|         1|                 N|         244|         244|           2|        7.2|  1.0|    0.5|       0.0|         0.0|                  1.0|         9.7|                 0.0|        0.0|               0.0|\n|       2| 2025-01-01 00:21:34|  2025-01-01 00:25:06|              3|         0.66|         1|                 N|         244|         116|           2|        5.8|  1.0|    0.5|       0.0|         0.0|                  1.0|         8.3|                 0.0|        0.0|               0.0|\n|       2| 2025-01-01 00:48:24|  2025-01-01 01:08:26|              2|         2.63|         1|                 N|         239|          68|           2|       19.1|  1.0|    0.5|       0.0|         0.0|                  1.0|        24.1|                 2.5|        0.0|               0.0|\n|       1| 2025-01-01 00:14:47|  2025-01-01 00:16:15|              0|          0.4|         1|                 N|         170|         170|           1|        4.4|  3.5|    0.5|      2.35|         0.0|                  1.0|       11.75|                 2.5|        0.0|               0.0|\n|       1| 2025-01-01 00:39:27|  2025-01-01 00:51:51|              0|          1.6|         1|                 N|         234|         148|           1|       12.1|  3.5|    0.5|       2.0|         0.0|                  1.0|        19.1|                 2.5|        0.0|               0.0|\n|       1| 2025-01-01 00:53:43|  2025-01-01 01:13:23|              0|          2.8|         1|                 N|         148|         170|           1|       19.1|  3.5|    0.5|       3.0|         0.0|                  1.0|        27.1|                 2.5|        0.0|               0.0|\n|       2| 2025-01-01 00:00:02|  2025-01-01 00:09:36|              1|         1.71|         1|                 N|         237|         262|           2|       11.4|  1.0|    0.5|       0.0|         0.0|                  1.0|        16.4|                 2.5|        0.0|               0.0|\n|       2| 2025-01-01 00:20:28|  2025-01-01 00:28:04|              1|         2.29|         1|                 N|         237|          75|           2|       11.4|  1.0|    0.5|       0.0|         0.0|                  1.0|        16.4|                 2.5|        0.0|               0.0|\n|       2| 2025-01-01 00:33:58|  2025-01-01 00:37:23|              1|         0.56|         1|                 N|         263|         236|           1|        5.8|  1.0|    0.5|      2.16|         0.0|                  1.0|       12.96|                 2.5|        0.0|               0.0|\n|       2| 2025-01-01 00:42:40|  2025-01-01 00:55:38|              3|         1.99|         1|                 N|         236|         151|           2|       14.2|  1.0|    0.5|       0.0|         0.0|                  1.0|        19.2|                 2.5|        0.0|               0.0|\n|       1| 2025-01-01 00:30:07|  2025-01-01 00:36:48|              1|          1.1|         1|                 N|         229|         141|           2|        7.9|  3.5|    0.5|       0.0|         0.0|                  1.0|        12.9|                 2.5|        0.0|               0.0|\n|       1| 2025-01-01 00:39:55|  2025-01-01 01:13:59|              1|          3.2|         1|                 N|         141|         113|           1|       26.1|  3.5|    0.5|       7.8|         0.0|                  1.0|        38.9|                 2.5|        0.0|               0.0|\n|       1| 2025-01-01 00:16:54|  2025-01-01 00:35:12|              3|          2.5|         1|                 N|         158|         170|           2|       17.7|  3.5|    0.5|       0.0|         0.0|                  1.0|        22.7|                 2.5|        0.0|               0.0|\n|       1| 2025-01-01 00:43:10|  2025-01-01 01:00:03|              1|          1.9|         1|                 N|         164|         229|           1|       16.3|  3.5|    0.5|      4.25|         0.0|                  1.0|       25.55|                 2.5|        0.0|               0.0|\n|       2| 2025-01-01 00:01:41|  2025-01-01 00:07:14|              1|         0.71|         1|                 N|          79|         107|           2|       -7.2| -1.0|   -0.5|      3.66|         0.0|                 -1.0|       -8.54|                -2.5|        0.0|               0.0|\n|       2| 2025-01-01 00:01:41|  2025-01-01 00:07:14|              1|         0.71|         1|                 N|          79|         107|           2|        7.2|  1.0|    0.5|       0.0|         0.0|                  1.0|        12.2|                 2.5|        0.0|               0.0|\n|       1| 2025-01-01 00:33:12|  2025-01-01 00:50:14|              2|          1.2|         1|                 N|         246|          90|           1|       15.6|  3.5|    0.5|       0.0|         0.0|                  1.0|        20.6|                 2.5|        0.0|               0.0|\n+--------+--------------------+---------------------+---------------+-------------+----------+------------------+------------+------------+------------+-----------+-----+-------+----------+------------+---------------------+------------+--------------------+-----------+------------------+\nonly showing top 20 rows\n",
					"output_type": "stream"
				}
			]
		},
		{
			"cell_type": "code",
			"source": "# read data from catalog\ndyf = glueContext.create_dynamic_frame.from_catalog(\n    database = DB_NAME,\n    table_name = TBL_NAME,\n    transformation_ctx = \"src_dyf\",\n    # partition setup\n    additional_options = {\n        \"groupFiles\": \"inPartition\",   \n        \"groupSize\": \"134217728\",      \n    },\n)\ndf = dyf.toDF()\n\nfrom pyspark.sql import functions as f\n# first, clean the data and partition by date\n# df = df.filter((f.col(\"trip_distance\").isNotNull()) & (f.col(\"trip_distance\") >= 0))\ndf = (df\n      .filter((f.col(\"trip_distance\").isNotNull()) & (f.col(\"trip_distance\") >= 0))\n      .withColumn(\"pickup_ts\",  f.to_timestamp(f.col(\"tpep_pickup_datetime\")))\n      .withColumn(\"dropoff_ts\", f.to_timestamp(f.col(\"tpep_dropoff_datetime\")))\n      .withColumn(\"pickup_date\", f.date_format(f.col(\"pickup_ts\"), \"yyyy-MM-dd\"))\n)\ndf.show()",
			"metadata": {
				"trusted": true,
				"editable": true
			},
			"execution_count": 7,
			"outputs": [
				{
					"name": "stdout",
					"text": "+--------+--------------------+---------------------+---------------+-------------+----------+------------------+------------+------------+------------+-----------+-----+-------+----------+------------+---------------------+------------+--------------------+-----------+------------------+-------------------+-------------------+-----------+\n|VendorID|tpep_pickup_datetime|tpep_dropoff_datetime|passenger_count|trip_distance|RatecodeID|store_and_fwd_flag|PULocationID|DOLocationID|payment_type|fare_amount|extra|mta_tax|tip_amount|tolls_amount|improvement_surcharge|total_amount|congestion_surcharge|Airport_fee|cbd_congestion_fee|          pickup_ts|         dropoff_ts|pickup_date|\n+--------+--------------------+---------------------+---------------+-------------+----------+------------------+------------+------------+------------+-----------+-----+-------+----------+------------+---------------------+------------+--------------------+-----------+------------------+-------------------+-------------------+-----------+\n|       1| 2025-01-01 00:18:38|  2025-01-01 00:26:59|              1|          1.6|         1|                 N|         229|         237|           1|       10.0|  3.5|    0.5|       3.0|         0.0|                  1.0|        18.0|                 2.5|        0.0|               0.0|2025-01-01 00:18:38|2025-01-01 00:26:59| 2025-01-01|\n|       1| 2025-01-01 00:32:40|  2025-01-01 00:35:13|              1|          0.5|         1|                 N|         236|         237|           1|        5.1|  3.5|    0.5|      2.02|         0.0|                  1.0|       12.12|                 2.5|        0.0|               0.0|2025-01-01 00:32:40|2025-01-01 00:35:13| 2025-01-01|\n|       1| 2025-01-01 00:44:04|  2025-01-01 00:46:01|              1|          0.6|         1|                 N|         141|         141|           1|        5.1|  3.5|    0.5|       2.0|         0.0|                  1.0|        12.1|                 2.5|        0.0|               0.0|2025-01-01 00:44:04|2025-01-01 00:46:01| 2025-01-01|\n|       2| 2025-01-01 00:14:27|  2025-01-01 00:20:01|              3|         0.52|         1|                 N|         244|         244|           2|        7.2|  1.0|    0.5|       0.0|         0.0|                  1.0|         9.7|                 0.0|        0.0|               0.0|2025-01-01 00:14:27|2025-01-01 00:20:01| 2025-01-01|\n|       2| 2025-01-01 00:21:34|  2025-01-01 00:25:06|              3|         0.66|         1|                 N|         244|         116|           2|        5.8|  1.0|    0.5|       0.0|         0.0|                  1.0|         8.3|                 0.0|        0.0|               0.0|2025-01-01 00:21:34|2025-01-01 00:25:06| 2025-01-01|\n|       2| 2025-01-01 00:48:24|  2025-01-01 01:08:26|              2|         2.63|         1|                 N|         239|          68|           2|       19.1|  1.0|    0.5|       0.0|         0.0|                  1.0|        24.1|                 2.5|        0.0|               0.0|2025-01-01 00:48:24|2025-01-01 01:08:26| 2025-01-01|\n|       1| 2025-01-01 00:14:47|  2025-01-01 00:16:15|              0|          0.4|         1|                 N|         170|         170|           1|        4.4|  3.5|    0.5|      2.35|         0.0|                  1.0|       11.75|                 2.5|        0.0|               0.0|2025-01-01 00:14:47|2025-01-01 00:16:15| 2025-01-01|\n|       1| 2025-01-01 00:39:27|  2025-01-01 00:51:51|              0|          1.6|         1|                 N|         234|         148|           1|       12.1|  3.5|    0.5|       2.0|         0.0|                  1.0|        19.1|                 2.5|        0.0|               0.0|2025-01-01 00:39:27|2025-01-01 00:51:51| 2025-01-01|\n|       1| 2025-01-01 00:53:43|  2025-01-01 01:13:23|              0|          2.8|         1|                 N|         148|         170|           1|       19.1|  3.5|    0.5|       3.0|         0.0|                  1.0|        27.1|                 2.5|        0.0|               0.0|2025-01-01 00:53:43|2025-01-01 01:13:23| 2025-01-01|\n|       2| 2025-01-01 00:00:02|  2025-01-01 00:09:36|              1|         1.71|         1|                 N|         237|         262|           2|       11.4|  1.0|    0.5|       0.0|         0.0|                  1.0|        16.4|                 2.5|        0.0|               0.0|2025-01-01 00:00:02|2025-01-01 00:09:36| 2025-01-01|\n|       2| 2025-01-01 00:20:28|  2025-01-01 00:28:04|              1|         2.29|         1|                 N|         237|          75|           2|       11.4|  1.0|    0.5|       0.0|         0.0|                  1.0|        16.4|                 2.5|        0.0|               0.0|2025-01-01 00:20:28|2025-01-01 00:28:04| 2025-01-01|\n|       2| 2025-01-01 00:33:58|  2025-01-01 00:37:23|              1|         0.56|         1|                 N|         263|         236|           1|        5.8|  1.0|    0.5|      2.16|         0.0|                  1.0|       12.96|                 2.5|        0.0|               0.0|2025-01-01 00:33:58|2025-01-01 00:37:23| 2025-01-01|\n|       2| 2025-01-01 00:42:40|  2025-01-01 00:55:38|              3|         1.99|         1|                 N|         236|         151|           2|       14.2|  1.0|    0.5|       0.0|         0.0|                  1.0|        19.2|                 2.5|        0.0|               0.0|2025-01-01 00:42:40|2025-01-01 00:55:38| 2025-01-01|\n|       1| 2025-01-01 00:30:07|  2025-01-01 00:36:48|              1|          1.1|         1|                 N|         229|         141|           2|        7.9|  3.5|    0.5|       0.0|         0.0|                  1.0|        12.9|                 2.5|        0.0|               0.0|2025-01-01 00:30:07|2025-01-01 00:36:48| 2025-01-01|\n|       1| 2025-01-01 00:39:55|  2025-01-01 01:13:59|              1|          3.2|         1|                 N|         141|         113|           1|       26.1|  3.5|    0.5|       7.8|         0.0|                  1.0|        38.9|                 2.5|        0.0|               0.0|2025-01-01 00:39:55|2025-01-01 01:13:59| 2025-01-01|\n|       1| 2025-01-01 00:16:54|  2025-01-01 00:35:12|              3|          2.5|         1|                 N|         158|         170|           2|       17.7|  3.5|    0.5|       0.0|         0.0|                  1.0|        22.7|                 2.5|        0.0|               0.0|2025-01-01 00:16:54|2025-01-01 00:35:12| 2025-01-01|\n|       1| 2025-01-01 00:43:10|  2025-01-01 01:00:03|              1|          1.9|         1|                 N|         164|         229|           1|       16.3|  3.5|    0.5|      4.25|         0.0|                  1.0|       25.55|                 2.5|        0.0|               0.0|2025-01-01 00:43:10|2025-01-01 01:00:03| 2025-01-01|\n|       2| 2025-01-01 00:01:41|  2025-01-01 00:07:14|              1|         0.71|         1|                 N|          79|         107|           2|       -7.2| -1.0|   -0.5|      3.66|         0.0|                 -1.0|       -8.54|                -2.5|        0.0|               0.0|2025-01-01 00:01:41|2025-01-01 00:07:14| 2025-01-01|\n|       2| 2025-01-01 00:01:41|  2025-01-01 00:07:14|              1|         0.71|         1|                 N|          79|         107|           2|        7.2|  1.0|    0.5|       0.0|         0.0|                  1.0|        12.2|                 2.5|        0.0|               0.0|2025-01-01 00:01:41|2025-01-01 00:07:14| 2025-01-01|\n|       1| 2025-01-01 00:33:12|  2025-01-01 00:50:14|              2|          1.2|         1|                 N|         246|          90|           1|       15.6|  3.5|    0.5|       0.0|         0.0|                  1.0|        20.6|                 2.5|        0.0|               0.0|2025-01-01 00:33:12|2025-01-01 00:50:14| 2025-01-01|\n+--------+--------------------+---------------------+---------------+-------------+----------+------------------+------------+------------+------------+-----------+-----+-------+----------+------------+---------------------+------------+--------------------+-----------+------------------+-------------------+-------------------+-----------+\nonly showing top 20 rows\n",
					"output_type": "stream"
				}
			]
		},
		{
			"cell_type": "code",
			"source": "from awsglue.dynamicframe import DynamicFrame\ndef write_out_by_date(df_out, subdir):\n    df_out = df_out.repartition(50, \"pickup_date\")\n    dyf_out = DynamicFrame.fromDF(df_out, glueContext, f\"dyf_{subdir.strip('/').replace('/','_')}\")\n    glueContext.write_dynamic_frame.from_options(\n        frame = dyf_out,\n        connection_type = \"s3\",\n        format = \"csv\",\n        connection_options = {\n            \"path\": OUT_S3 + subdir, \n            \"partitionKeys\": [\"pickup_date\"], \n        },\n        format_options = {\"withHeader\": True},\n        transformation_ctx = f\"sink_{subdir.strip('/').replace('/','_')}\",\n    )",
			"metadata": {
				"trusted": true,
				"tags": []
			},
			"execution_count": 39,
			"outputs": [
				{
					"name": "stdout",
					"text": "\n",
					"output_type": "stream"
				}
			]
		},
		{
			"cell_type": "code",
			"source": "# perform Time-Based Filtering: Filter records for trips that occurred during the weekend.\n# dayofweek function can convert timestamp to the exact day, 1 is Sunday and 7 is Saturday\ndf_w = df.filter(f.dayofweek(f.col(\"tpep_pickup_datetime\")).isin(1, 7))\\\n         .select(\"VendorID\", \"pickup_date\", \"pickup_ts\", \"trip_distance\", \"fare_amount\", \"total_amount\")\n\nwrite_out_by_date(df_w, \"weekend_records/\")\ndf_w.show()",
			"metadata": {
				"trusted": true,
				"editable": true
			},
			"execution_count": 40,
			"outputs": [
				{
					"name": "stdout",
					"text": "+--------+-----------+-------------------+-------------+-----------+------------+\n|VendorID|pickup_date|          pickup_ts|trip_distance|fare_amount|total_amount|\n+--------+-----------+-------------------+-------------+-----------+------------+\n|       2| 2025-01-04|2025-01-04 00:01:36|         6.31|       28.2|       39.84|\n|       1| 2025-01-04|2025-01-04 00:01:26|          6.8|       26.8|       38.55|\n|       2| 2025-01-04|2025-01-04 00:02:21|          7.0|       28.9|       53.76|\n|       1| 2025-01-04|2025-01-04 00:10:29|          7.1|       31.7|        42.7|\n|       2| 2025-01-04|2025-01-04 00:00:15|         3.75|       22.6|       35.88|\n|       2| 2025-01-04|2025-01-04 00:56:47|         1.61|       10.7|       18.84|\n|       1| 2025-01-04|2025-01-04 00:39:08|          0.7|        7.9|       15.45|\n|       2| 2025-01-04|2025-01-04 00:02:20|         1.37|        8.6|       16.32|\n|       2| 2025-01-04|2025-01-04 00:00:59|         6.54|       28.2|       43.16|\n|       1| 2025-01-04|2025-01-04 00:02:15|          2.4|       12.8|        18.8|\n|       2| 2025-01-04|2025-01-04 00:38:33|         1.82|       12.8|       21.36|\n|       2| 2025-01-04|2025-01-04 00:51:15|         1.15|        7.9|       15.48|\n|       2| 2025-01-04|2025-01-04 00:05:05|         3.73|       19.8|        31.0|\n|       2| 2025-01-04|2025-01-04 00:10:21|         0.87|        8.6|        13.6|\n|       2| 2025-01-04|2025-01-04 00:34:35|         0.78|        7.9|        12.9|\n|       2| 2025-01-04|2025-01-04 00:42:55|         1.17|        8.6|       16.32|\n|       1| 2025-01-04|2025-01-04 00:17:41|         17.9|       70.0|       85.94|\n|       2| 2025-01-04|2025-01-04 00:08:18|         2.68|       14.2|        24.0|\n|       2| 2025-01-04|2025-01-04 00:16:30|         0.93|        8.6|        13.6|\n|       2| 2025-01-04|2025-01-04 00:12:13|        17.43|       70.0|        99.8|\n+--------+-----------+-------------------+-------------+-----------+------------+\nonly showing top 20 rows\n",
					"output_type": "stream"
				}
			]
		},
		{
			"cell_type": "code",
			"source": "# Bucketing: Create buckets based on trip distance and count the number of trips in each bucket.\n# categorize based on different distances\ndf_distance = df.withColumn(\"distance_bucket\",\n                          f.when(f.col(\"trip_distance\") < 1, \"0-1\")\n                          .when(f.col(\"trip_distance\") < 5, \"1-5\")\n                          .when(f.col(\"trip_distance\") < 10, \"5-10\")\n                          .when(f.col(\"trip_distance\") < 15, \"10-15\")\n                          .otherwise(\"15+\"))\n\n# add to buckets based on different tags \ndf_bucket = df_distance.withColumn(\"bucket_order\",\n                                  f.when(f.col(\"distance_bucket\") == \"0-1\", 0)\n                                  .when(f.col(\"distance_bucket\") == \"1-5\", 1)\n                                  .when(f.col(\"distance_bucket\") == \"5-10\", 2)\n                                  .when(f.col(\"distance_bucket\") == \"10-15\", 3)\n                                  .otherwise(4))\n\n# count the number of the trips in each bucket\ndf_cb = df_bucket.groupBy(\"bucket_order\", \"pickup_date\").agg(f.count(f.col(\"bucket_order\")).alias(\"number_of_trips\")).orderBy(\"bucket_order\")\n\nwrite_out_by_date(df_cb, \"buckets/\")\ndf_cb.show()",
			"metadata": {
				"trusted": true,
				"editable": true
			},
			"execution_count": 41,
			"outputs": [
				{
					"name": "stdout",
					"text": "+------------+-----------+---------------+\n|bucket_order|pickup_date|number_of_trips|\n+------------+-----------+---------------+\n|           0| 2025-01-08|          32055|\n|           0| 2025-01-04|          24798|\n|           0| 2025-01-02|          21057|\n|           0| 2025-01-07|          27950|\n|           0| 2025-01-12|          21167|\n|           0| 2025-01-01|          17523|\n|           0| 2025-01-10|          29370|\n|           0| 2025-01-09|          33166|\n|           0| 2025-01-05|          18780|\n|           0| 2025-01-03|          23212|\n|           0| 2025-01-11|          28796|\n|           0| 2025-01-06|          21115|\n|           0| 2024-12-31|              3|\n|           0| 2025-01-23|          38368|\n|           0| 2025-01-21|          32616|\n|           0| 2025-01-19|          25363|\n|           0| 2025-01-20|          19983|\n|           0| 2025-01-14|          32918|\n|           0| 2025-01-17|          32151|\n|           0| 2025-01-16|          37522|\n+------------+-----------+---------------+\nonly showing top 20 rows\n",
					"output_type": "stream"
				}
			]
		},
		{
			"cell_type": "code",
			"source": "# Time-Series Analysis: Aggregate data to calculate total fare and total trip count per hour.\n# calculate the total fare\ndf_hourly = df.withColumn(\"trip_hour\", f.date_trunc(\"hour\", f.col(\"tpep_pickup_datetime\"))) \\\n              .groupBy(\"trip_hour\", \"pickup_date\").agg(f.sum(\"fare_amount\").alias(\"total_fare_hourly\"), f.count(\"*\").alias(\"total_trip_hourly\")).orderBy(\"trip_hour\")\n\nwrite_out_by_date(df_hourly, \"fare_trip_hourly/\")\ndf_hourly.show()",
			"metadata": {
				"trusted": true,
				"tags": []
			},
			"execution_count": 42,
			"outputs": [
				{
					"name": "stdout",
					"text": "+-------------------+-----------+------------------+-----------------+\n|          trip_hour|pickup_date| total_fare_hourly|total_trip_hourly|\n+-------------------+-----------+------------------+-----------------+\n|2024-12-31 20:00:00| 2024-12-31|              60.8|                3|\n|2024-12-31 21:00:00| 2024-12-31|              39.8|                3|\n|2024-12-31 23:00:00| 2024-12-31|300.99999999999994|               15|\n|2025-01-01 00:00:00| 2025-01-01|121168.00999999975|             7344|\n|2025-01-01 01:00:00| 2025-01-01|141337.82999999978|             8468|\n|2025-01-01 02:00:00| 2025-01-01|109413.60999999993|             7257|\n|2025-01-01 03:00:00| 2025-01-01| 58335.50999999995|             4915|\n|2025-01-01 04:00:00| 2025-01-01| 41073.96000000002|             2918|\n|2025-01-01 05:00:00| 2025-01-01|23179.539999999986|             1429|\n|2025-01-01 06:00:00| 2025-01-01| 24637.22999999999|             1220|\n|2025-01-01 07:00:00| 2025-01-01|22889.960000000017|             1116|\n|2025-01-01 08:00:00| 2025-01-01| 24665.15000000001|             1116|\n|2025-01-01 09:00:00| 2025-01-01|29147.630000000012|             1524|\n|2025-01-01 10:00:00| 2025-01-01|44142.309999999976|             2289|\n|2025-01-01 11:00:00| 2025-01-01| 54886.94000000005|             3228|\n|2025-01-01 12:00:00| 2025-01-01| 73802.20000000011|             4087|\n|2025-01-01 13:00:00| 2025-01-01| 84324.53999999979|             4770|\n|2025-01-01 14:00:00| 2025-01-01| 95562.55000000028|             5057|\n|2025-01-01 15:00:00| 2025-01-01| 93413.32999999971|             5025|\n|2025-01-01 16:00:00| 2025-01-01| 92455.55999999985|             4587|\n+-------------------+-----------+------------------+-----------------+\nonly showing top 20 rows\n",
					"output_type": "stream"
				}
			]
		},
		{
			"cell_type": "code",
			"source": "# Geospatial Analysis: Calculate the Haversine distance for each trip.\n# show the zone data, which is preprocessed using python geopandas package\nzone_path = \"s3://hw16-zones-bucket/taxi_zones_centroids.parquet\"\n# show the data\nzones = spark.read.parquet(zone_path)\n\n# join the zones table with the original table to find the longitude and latitude\npickup = zones.select(f.col(\"LocationID\").alias(\"PULocationID\"), f.col(\"longitude\").alias(\"pickup_longitude\"), f.col(\"latitude\").alias(\"pickup_latitude\"))\ndropoff = zones.select(f.col(\"LocationID\").alias(\"DOLocationID\"), f.col(\"longitude\").alias(\"dropoff_longitude\"), f.col(\"latitude\").alias(\"dropoff_latitude\"))\n\n# join the two charts to find the pickup and dropoff longitude and latitude\njoin_expression_pick = pickup[\"PULocationID\"] == df[\"PULocationID\"]\njoin_expression_drop = dropoff[\"DOLocationID\"] == df[\"DOLocationID\"]\ndf_trips = df.join(pickup, join_expression_pick, how=\"left\")\ndf_trips = df_trips.join(dropoff, join_expression_drop, how=\"left\")\ndf_trips = df_trips.select(\"pickup_date\", \"pickup_longitude\", \"pickup_latitude\", \"dropoff_longitude\", \"dropoff_latitude\")\ndf_trips.show()\n\n# calculate the Haversine Distance\nR = f.lit(6371)\ndo_lat = f.radians(f.col(\"dropoff_latitude\"))\npu_lat = f.radians(f.col(\"pickup_latitude\"))\ndiff_lat = do_lat - pu_lat\ndiff_lon = f.radians(f.col(\"dropoff_longitude\")) - f.radians(f.col(\"pickup_longitude\"))\nterm1 = f.sqrt((1/2) * (1 - f.cos(diff_lat) + f.cos(do_lat) * f.cos(pu_lat) * (1 - f.cos(diff_lon))))\ndistance = 2 * f.asin(term1) * R\n\n# add to the column\ndf_trips = df_trips.withColumn(\"Haversine_Distance\", distance)\nwrite_out_by_date(df_trips, \"distance/\")\ndf_trips.show()",
			"metadata": {
				"trusted": true,
				"tags": []
			},
			"execution_count": 43,
			"outputs": [
				{
					"name": "stdout",
					"text": "+-----------+------------------+------------------+------------------+------------------+\n|pickup_date|  pickup_longitude|   pickup_latitude| dropoff_longitude|  dropoff_latitude|\n+-----------+------------------+------------------+------------------+------------------+\n| 2025-01-01|-73.96514581878095| 40.75672890813223|-73.96563472764679| 40.76861505664575|\n| 2025-01-01|-73.95701192571859| 40.78043629001211|-73.96563472764679| 40.76861505664575|\n| 2025-01-01|-73.95963501136171| 40.76694805479654|-73.95963501136171| 40.76694805479654|\n| 2025-01-01|-73.94139929841424| 40.84170843286747|-73.94139929841424| 40.84170843286747|\n| 2025-01-01|-73.94139929841424| 40.84170843286747|-73.94852183123933| 40.82701260635661|\n| 2025-01-01|-73.97863191501314| 40.78396140232239|-73.99991779023728|  40.7484273300986|\n| 2025-01-01|-73.97849158432054| 40.74774573203895|-73.97849158432054| 40.74774573203895|\n| 2025-01-01| -73.9904579133977| 40.74033737258096|-73.99089636602756|40.718938301131104|\n| 2025-01-01|-73.99089636602756|40.718938301131104|-73.97849158432054| 40.74774573203895|\n| 2025-01-01|-73.96563472764679| 40.76861505664575|-73.94651047848446| 40.77593230221761|\n| 2025-01-01|-73.96563472764679| 40.76861505664575|-73.94575022751276| 40.79001067629398|\n| 2025-01-01| -73.9510100659439| 40.77876573980772|-73.95701192571859| 40.78043629001211|\n| 2025-01-01|-73.95701192571859| 40.78043629001211|-73.96816820440951| 40.79796198028393|\n| 2025-01-01|-73.96514581878095| 40.75672890813223|-73.95963501136171| 40.76694805479654|\n| 2025-01-01|-73.95963501136171| 40.76694805479654| -73.9943047162786|40.732579026253674|\n| 2025-01-01|-74.00898419902498|  40.7350351831651|-73.97849158432054| 40.74774573203895|\n| 2025-01-01|-73.98515644835915| 40.74857453693654|-73.96514581878095| 40.75672890813223|\n| 2025-01-01|-73.98593745737395|40.727620122038296|-73.98405214924436| 40.73682398302768|\n| 2025-01-01|-73.98593745737395|40.727620122038296|-73.98405214924436| 40.73682398302768|\n| 2025-01-01|-74.00401551098165| 40.75330875946255|-73.99697147759031|40.742278583312206|\n+-----------+------------------+------------------+------------------+------------------+\nonly showing top 20 rows\n\n+-----------+------------------+------------------+------------------+------------------+------------------+\n|pickup_date|  pickup_longitude|   pickup_latitude| dropoff_longitude|  dropoff_latitude|Haversine_Distance|\n+-----------+------------------+------------------+------------------+------------------+------------------+\n| 2025-01-01|-73.96514581878095| 40.75672890813223|-73.96563472764679| 40.76861505664575|1.3223206781399817|\n| 2025-01-01|-73.95701192571859| 40.78043629001211|-73.96563472764679| 40.76861505664575|1.5016727676388169|\n| 2025-01-01|-73.95963501136171| 40.76694805479654|-73.95963501136171| 40.76694805479654|               0.0|\n| 2025-01-01|-73.94139929841424| 40.84170843286747|-73.94139929841424| 40.84170843286747|               0.0|\n| 2025-01-01|-73.94139929841424| 40.84170843286747|-73.94852183123933| 40.82701260635661| 1.740503908007538|\n| 2025-01-01|-73.97863191501314| 40.78396140232239|-73.99991779023728|  40.7484273300986| 4.338844292089637|\n| 2025-01-01|-73.97849158432054| 40.74774573203895|-73.97849158432054| 40.74774573203895|               0.0|\n| 2025-01-01| -73.9904579133977| 40.74033737258096|-73.99089636602756|40.718938301131104|   2.3797549831296|\n| 2025-01-01|-73.99089636602756|40.718938301131104|-73.97849158432054| 40.74774573203895| 3.369452094536644|\n| 2025-01-01|-73.96563472764679| 40.76861505664575|-73.94651047848446| 40.77593230221761|1.8043054489549986|\n| 2025-01-01|-73.96563472764679| 40.76861505664575|-73.94575022751276| 40.79001067629398| 2.909167332112984|\n| 2025-01-01| -73.9510100659439| 40.77876573980772|-73.95701192571859| 40.78043629001211|0.5384143989173952|\n| 2025-01-01|-73.95701192571859| 40.78043629001211|-73.96816820440951| 40.79796198028393| 2.163292191366307|\n| 2025-01-01|-73.96514581878095| 40.75672890813223|-73.95963501136171| 40.76694805479654|1.2274512930909909|\n| 2025-01-01|-73.95963501136171| 40.76694805479654| -73.9943047162786|40.732579026253674| 4.809822346998574|\n| 2025-01-01|-74.00898419902498|  40.7350351831651|-73.97849158432054| 40.74774573203895| 2.932074552986332|\n| 2025-01-01|-73.98515644835915| 40.74857453693654|-73.96514581878095| 40.75672890813223| 1.913978993084185|\n| 2025-01-01|-73.98593745737395|40.727620122038296|-73.98405214924436| 40.73682398302768| 1.035678091016678|\n| 2025-01-01|-73.98593745737395|40.727620122038296|-73.98405214924436| 40.73682398302768| 1.035678091016678|\n| 2025-01-01|-74.00401551098165| 40.75330875946255|-73.99697147759031|40.742278583312206|1.3625027576931834|\n+-----------+------------------+------------------+------------------+------------------+------------------+\nonly showing top 20 rows\n",
					"output_type": "stream"
				}
			]
		},
		{
			"cell_type": "code",
			"source": "# Calculate trip duration and average speed\ndf_duration = df.withColumn(\"trip_duration_min\", (f.unix_timestamp(f.col(\"tpep_dropoff_datetime\")) / 60 - f.unix_timestamp(f.col(\"tpep_pickup_datetime\")) / 60))\ndf_time_speed = df_duration.withColumn(\"speed(mile_min)\", f.col(\"trip_distance\") / f.col(\"trip_duration_min\"))\\\n                           .select(\"pickup_date\", \"VendorID\", \"trip_duration_min\", \"speed(mile_min)\")\nwrite_out_by_date(df_time_speed, \"duration_speed/\")\ndf_time_speed.show()",
			"metadata": {
				"trusted": true,
				"tags": []
			},
			"execution_count": 45,
			"outputs": [
				{
					"name": "stdout",
					"text": "+-----------+--------+------------------+-------------------+\n|pickup_date|VendorID| trip_duration_min|    speed(mile_min)|\n+-----------+--------+------------------+-------------------+\n| 2025-01-01|       1| 8.350000001490116| 0.1916167664328705|\n| 2025-01-01|       1|2.5499999970197678| 0.1960784316017095|\n| 2025-01-01|       1| 1.949999999254942|0.30769230780987106|\n| 2025-01-01|       2| 5.566666666418314|0.09341317365686218|\n| 2025-01-01|       2| 3.533333335071802|0.18679245273828315|\n| 2025-01-01|       2|20.033333335071802|0.13128119799193536|\n| 2025-01-01|       1|1.4666666649281979|0.27272727305054173|\n| 2025-01-01|       1|12.400000002235174| 0.1290322580412573|\n| 2025-01-01|       1| 19.66666666790843| 0.1423728813469427|\n| 2025-01-01|       2| 9.566666666418314| 0.1787456446039434|\n| 2025-01-01|       2| 7.600000001490116|0.30131578941460585|\n| 2025-01-01|       2|  3.41666666790843|0.16390243896482107|\n| 2025-01-01|       2|12.966666664928198|0.15347043703857097|\n| 2025-01-01|       1| 6.683333333581686|0.16458852867218815|\n| 2025-01-01|       1|34.066666666418314|0.09393346379716229|\n| 2025-01-01|       1|18.300000000745058|0.13661202185236154|\n| 2025-01-01|       1|16.883333332836628| 0.1125370187594806|\n| 2025-01-01|       2| 5.550000000745058|0.12792792791075427|\n| 2025-01-01|       2| 5.550000000745058|0.12792792791075427|\n| 2025-01-01|       1|17.033333335071802|0.07045009784016779|\n+-----------+--------+------------------+-------------------+\nonly showing top 20 rows\n",
					"output_type": "stream"
				}
			]
		},
		{
			"cell_type": "code",
			"source": "# identify peak hours and detect fare anomalies\n# count how many pickups happen in each hour to find the rush hour\ndf_congestion = df.filter(f.col(\"cbd_congestion_fee\") > 0)\ndf_congestion = df_congestion.withColumn(\"pickup_hour\", f.hour(\"tpep_pickup_datetime\"))\ndf_congestion = df_congestion.groupBy(\"pickup_hour\", \"pickup_date\").count().orderBy(f.desc(\"count\"))\nwrite_out_by_date(df_congestion, \"peak_hour/\")\ndf_congestion.show()",
			"metadata": {
				"trusted": true,
				"tags": []
			},
			"execution_count": 54,
			"outputs": [
				{
					"name": "stdout",
					"text": "+-----------+-----------+-----+\n|pickup_hour|pickup_date|count|\n+-----------+-----------+-----+\n|         18| 2025-01-16|10071|\n|         18| 2025-01-23| 9569|\n|         18| 2025-01-30| 8962|\n|         18| 2025-01-31| 8907|\n|         17| 2025-01-16| 8670|\n|         23| 2025-01-25| 8500|\n|         18| 2025-01-22| 8362|\n|         17| 2025-01-23| 8311|\n|         21| 2025-01-23| 8252|\n|         18| 2025-01-24| 8218|\n|         19| 2025-01-16| 8091|\n|         17| 2025-01-31| 8003|\n|         21| 2025-01-16| 7930|\n|         19| 2025-01-23| 7878|\n|         19| 2025-01-31| 7825|\n|         18| 2025-01-17| 7764|\n|         22| 2025-01-23| 7732|\n|         18| 2025-01-15| 7728|\n|         22| 2025-01-25| 7715|\n|         21| 2025-01-22| 7670|\n+-----------+-----------+-----+\nonly showing top 20 rows\n",
					"output_type": "stream"
				}
			]
		},
		{
			"cell_type": "code",
			"source": "# detect fare anomalies using IQR method (not robust to extreme values)\n# if the value is lower than q1-1.5*IQR or higher than q3+1.5*IQR, we assume it is abnormal\n# also we have amount which is less than 0, it is also abnormal\nq1, q3 = df.approxQuantile(\"total_amount\", [0.25, 0.75], 0.01)\niqr = q3 - q1\nlower = q1 - 1.5 * iqr\nupper = q3 + 1.5 * iqr\n\ndf_anomalies = df.select(\"pickup_date\", \"total_amount\")\\\n                 .withColumn(\"amount_anomalies\", (f.col(\"total_amount\") < lower) | (f.col(\"total_amount\") > upper))\nwrite_out_by_date(df_anomalies, \"fare_anomalies/\")\ndf_anomalies.show(100, truncate = False)",
			"metadata": {
				"trusted": true,
				"tags": []
			},
			"execution_count": 57,
			"outputs": [
				{
					"name": "stdout",
					"text": "+-----------+------------+----------------+\n|pickup_date|total_amount|amount_anomalies|\n+-----------+------------+----------------+\n|2025-01-01 |18.0        |false           |\n|2025-01-01 |12.12       |false           |\n|2025-01-01 |12.1        |false           |\n|2025-01-01 |9.7         |false           |\n|2025-01-01 |8.3         |false           |\n|2025-01-01 |24.1        |false           |\n|2025-01-01 |11.75       |false           |\n|2025-01-01 |19.1        |false           |\n|2025-01-01 |27.1        |false           |\n|2025-01-01 |16.4        |false           |\n|2025-01-01 |16.4        |false           |\n|2025-01-01 |12.96       |false           |\n|2025-01-01 |19.2        |false           |\n|2025-01-01 |12.9        |false           |\n|2025-01-01 |38.9        |false           |\n|2025-01-01 |22.7        |false           |\n|2025-01-01 |25.55       |false           |\n|2025-01-01 |-8.54       |true            |\n|2025-01-01 |12.2        |false           |\n|2025-01-01 |20.6        |false           |\n|2025-01-01 |27.24       |false           |\n|2025-01-01 |23.88       |false           |\n|2025-01-01 |-11.5       |true            |\n|2025-01-01 |11.5        |false           |\n|2025-01-01 |14.03       |false           |\n|2025-01-01 |15.45       |false           |\n|2025-01-01 |13.2        |false           |\n|2025-01-01 |17.4        |false           |\n|2025-01-01 |32.7        |false           |\n|2025-01-01 |11.5        |false           |\n|2025-01-01 |30.13       |false           |\n|2025-01-01 |42.35       |false           |\n|2025-01-01 |22.7        |false           |\n|2025-01-01 |12.1        |false           |\n|2025-01-01 |37.29       |false           |\n|2025-01-01 |18.84       |false           |\n|2025-01-01 |12.96       |false           |\n|2025-01-01 |20.52       |false           |\n|2025-01-01 |12.19       |false           |\n|2025-01-01 |39.0        |false           |\n|2025-01-01 |50.76       |true            |\n|2025-01-01 |25.3        |false           |\n|2025-01-01 |14.45       |false           |\n|2025-01-01 |18.84       |false           |\n|2025-01-01 |29.76       |false           |\n|2025-01-01 |13.9        |false           |\n|2025-01-01 |18.0        |false           |\n|2025-01-01 |16.3        |false           |\n|2025-01-01 |19.6        |false           |\n|2025-01-01 |13.9        |false           |\n|2025-01-01 |43.25       |false           |\n|2025-01-01 |16.13       |false           |\n|2025-01-01 |17.1        |false           |\n|2025-01-01 |24.8        |false           |\n|2025-01-01 |40.68       |false           |\n|2025-01-01 |33.2        |false           |\n|2025-01-01 |25.87       |false           |\n|2025-01-01 |24.5        |false           |\n|2025-01-01 |21.38       |false           |\n|2025-01-01 |19.65       |false           |\n|2025-01-01 |16.3        |false           |\n|2025-01-01 |31.2        |false           |\n|2025-01-01 |32.75       |false           |\n|2025-01-01 |17.1        |false           |\n|2025-01-01 |26.4        |false           |\n|2025-01-01 |28.08       |false           |\n|2025-01-01 |21.36       |false           |\n|2025-01-01 |21.2        |false           |\n|2025-01-01 |39.0        |false           |\n|2025-01-01 |19.68       |false           |\n|2025-01-01 |11.28       |false           |\n|2025-01-01 |19.2        |false           |\n|2025-01-01 |24.2        |false           |\n|2025-01-01 |31.3        |false           |\n|2025-01-01 |22.23       |false           |\n|2025-01-01 |32.25       |false           |\n|2025-01-01 |16.32       |false           |\n|2025-01-01 |25.55       |false           |\n|2025-01-01 |27.72       |false           |\n|2025-01-01 |12.2        |false           |\n|2025-01-01 |13.8        |false           |\n|2025-01-01 |15.7        |false           |\n|2025-01-01 |15.48       |false           |\n|2025-01-01 |15.86       |false           |\n|2025-01-01 |25.56       |false           |\n|2025-01-01 |13.87       |false           |\n|2025-01-01 |40.6        |false           |\n|2025-01-01 |33.4        |false           |\n|2025-01-01 |37.95       |false           |\n|2025-01-01 |17.16       |false           |\n|2025-01-01 |74.28       |true            |\n|2025-01-01 |23.85       |false           |\n|2025-01-01 |20.06       |false           |\n|2025-01-01 |75.55       |true            |\n|2025-01-01 |12.2        |false           |\n|2025-01-01 |17.15       |false           |\n|2025-01-01 |14.6        |false           |\n|2025-01-01 |41.5        |false           |\n|2025-01-01 |111.32      |true            |\n|2025-01-01 |12.2        |false           |\n+-----------+------------+----------------+\nonly showing top 100 rows\n",
					"output_type": "stream"
				}
			]
		},
		{
			"cell_type": "code",
			"source": "job.commit()",
			"metadata": {
				"trusted": true,
				"tags": []
			},
			"execution_count": 58,
			"outputs": [
				{
					"name": "stdout",
					"text": "\n",
					"output_type": "stream"
				}
			]
		},
		{
			"cell_type": "code",
			"source": "",
			"metadata": {},
			"execution_count": null,
			"outputs": []
		}
	]
}
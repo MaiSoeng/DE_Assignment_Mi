{
 "cells": [
  {
   "cell_type": "code",
   "execution_count": 38,
   "metadata": {},
   "outputs": [
    {
     "name": "stdout",
     "output_type": "stream",
     "text": [
      "Calculation started (calculation_id=66cc88e2-064b-405f-6fd1-0734f52adcca) in (session=6acc88c6-1880-c311-4c40-559f3e3797fe). Checking calculation status...\n"
     ]
    },
    {
     "data": {
      "application/vnd.jupyter.widget-view+json": {
       "model_id": "864b88138ed8492b8f6208c9dcd5bcfa",
       "version_major": 2,
       "version_minor": 0
      },
      "text/plain": [
       "Progress:   0%|          |elapsed time = 00:00s"
      ]
     },
     "metadata": {},
     "output_type": "display_data"
    },
    {
     "name": "stdout",
     "output_type": "stream",
     "text": [
      "Calculation completed.\n",
      "root\n",
      " |-- year: integer (nullable = true)\n",
      " |-- month: integer (nullable = true)\n",
      " |-- carrier: string (nullable = true)\n",
      " |-- carrier_name: string (nullable = true)\n",
      " |-- airport: string (nullable = true)\n",
      " |-- airport_name: string (nullable = true)\n",
      " |-- arr_flights: double (nullable = true)\n",
      " |-- arr_del15: double (nullable = true)\n",
      " |-- carrier_ct: double (nullable = true)\n",
      " |-- weather_ct: double (nullable = true)\n",
      " |-- nas_ct: double (nullable = true)\n",
      " |-- security_ct: double (nullable = true)\n",
      " |-- late_aircraft_ct: double (nullable = true)\n",
      " |-- arr_cancelled: double (nullable = true)\n",
      " |-- arr_diverted: double (nullable = true)\n",
      " |-- arr_delay: double (nullable = true)\n",
      " |-- carrier_delay: double (nullable = true)\n",
      " |-- weather_delay: double (nullable = true)\n",
      " |-- nas_delay: double (nullable = true)\n",
      " |-- security_delay: double (nullable = true)\n",
      " |-- late_aircraft_delay: double (nullable = true)\n",
      "\n",
      "+----+-----+-------+-----------------+-------+-----------------------------------------------------------+-----------+---------+----------+----------+------+-----------+----------------+-------------+------------+---------+-------------+-------------+---------+--------------+-------------------+\n",
      "|year|month|carrier|carrier_name     |airport|airport_name                                               |arr_flights|arr_del15|carrier_ct|weather_ct|nas_ct|security_ct|late_aircraft_ct|arr_cancelled|arr_diverted|arr_delay|carrier_delay|weather_delay|nas_delay|security_delay|late_aircraft_delay|\n",
      "+----+-----+-------+-----------------+-------+-----------------------------------------------------------+-----------+---------+----------+----------+------+-----------+----------------+-------------+------------+---------+-------------+-------------+---------+--------------+-------------------+\n",
      "|2023|8    |9E     |Endeavor Air Inc.|ABE    |Allentown/Bethlehem/Easton, PA: Lehigh Valley International|89.0       |13.0     |2.25      |1.6       |3.16  |0.0        |5.99            |2.0          |1.0         |1375.0   |71.0         |761.0        |118.0    |0.0           |425.0              |\n",
      "|2023|8    |9E     |Endeavor Air Inc.|ABY    |Albany, GA: Southwest Georgia Regional                     |62.0       |10.0     |1.97      |0.04      |0.57  |0.0        |7.42            |0.0          |1.0         |799.0    |218.0        |1.0          |62.0     |0.0           |518.0              |\n",
      "|2023|8    |9E     |Endeavor Air Inc.|AEX    |Alexandria, LA: Alexandria International                   |62.0       |10.0     |2.73      |1.18      |1.8   |0.0        |4.28            |1.0          |0.0         |766.0    |56.0         |188.0        |78.0     |0.0           |444.0              |\n",
      "|2023|8    |9E     |Endeavor Air Inc.|AGS    |Augusta, GA: Augusta Regional at Bush Field                |66.0       |12.0     |3.69      |2.27      |4.47  |0.0        |1.57            |1.0          |1.0         |1397.0   |471.0        |320.0        |388.0    |0.0           |218.0              |\n",
      "|2023|8    |9E     |Endeavor Air Inc.|ALB    |Albany, NY: Albany International                           |92.0       |22.0     |7.76      |0.0       |2.96  |0.0        |11.28           |2.0          |0.0         |1530.0   |628.0        |0.0          |134.0    |0.0           |768.0              |\n",
      "|2023|8    |9E     |Endeavor Air Inc.|ATL    |Atlanta, GA: Hartsfield-Jackson Atlanta International      |1636.0     |256.0    |55.98     |27.81     |63.64 |0.0        |108.57          |32.0         |11.0        |29768.0  |9339.0       |4557.0       |4676.0   |0.0           |11196.0            |\n",
      "|2023|8    |9E     |Endeavor Air Inc.|AUS    |Austin, TX: Austin - Bergstrom International               |75.0       |12.0     |5.62      |0.97      |4.41  |0.0        |1.0             |0.0          |0.0         |843.0    |535.0        |170.0        |111.0    |0.0           |27.0               |\n",
      "|2023|8    |9E     |Endeavor Air Inc.|AVL    |Asheville, NC: Asheville Regional                          |59.0       |7.0      |3.32      |0.0       |0.42  |0.0        |3.26            |2.0          |0.0         |324.0    |117.0        |0.0          |25.0     |0.0           |182.0              |\n",
      "|2023|8    |9E     |Endeavor Air Inc.|AZO    |Kalamazoo, MI: Kalamazoo/Battle Creek International        |62.0       |13.0     |6.53      |0.94      |3.54  |0.0        |1.99            |0.0          |0.0         |707.0    |470.0        |77.0         |87.0     |0.0           |73.0               |\n",
      "|2023|8    |9E     |Endeavor Air Inc.|BDL    |Hartford, CT: Bradley International                        |30.0       |4.0      |0.0       |0.82      |0.0   |0.0        |3.18            |1.0          |0.0         |1421.0   |0.0          |532.0        |0.0      |0.0           |889.0              |\n",
      "+----+-----+-------+-----------------+-------+-----------------------------------------------------------+-----------+---------+----------+----------+------+-----------+----------------+-------------+------------+---------+-------------+-------------+---------+--------------+-------------------+\n",
      "only showing top 10 rows\n",
      "\n"
     ]
    }
   ],
   "source": [
    "from pyspark.sql import functions as f\n",
    "\n",
    "s3_input = \"s3://hw18-part1/data/Airline_Delay_Cause.csv\"   \n",
    "df = spark.read.option(\"header\", \"true\").option(\"inferSchema\", \"true\").csv(s3_input)\n",
    "\n",
    "df.printSchema()\n",
    "df.show(10, truncate=False)"
   ]
  },
  {
   "cell_type": "code",
   "execution_count": 9,
   "metadata": {},
   "outputs": [
    {
     "name": "stdout",
     "output_type": "stream",
     "text": [
      "Calculation started (calculation_id=9acc8856-603d-c860-3b10-ef09245ddf1e) in (session=12cc884b-095f-373f-85cc-970d4d429cdd). Checking calculation status...\n"
     ]
    },
    {
     "data": {
      "application/vnd.jupyter.widget-view+json": {
       "model_id": "2126f4b2fbd44aae97d8b3127bbe1bb7",
       "version_major": 2,
       "version_minor": 0
      },
      "text/plain": [
       "Progress:   0%|          |elapsed time = 00:00s"
      ]
     },
     "metadata": {},
     "output_type": "display_data"
    },
    {
     "name": "stdout",
     "output_type": "stream",
     "text": [
      "Calculation completed.\n",
      "+-------+-----------------+------------------+-------+--------------------+-------+--------------------+------------------+-----------------+------------------+------------------+------------------+-------------------+------------------+-----------------+------------------+------------------+------------------+------------------+-----------------+-----------------+-------------------+\n",
      "|summary|             year|             month|carrier|        carrier_name|airport|        airport_name|       arr_flights|        arr_del15|        carrier_ct|        weather_ct|            nas_ct|        security_ct|  late_aircraft_ct|    arr_cancelled|      arr_diverted|         arr_delay|     carrier_delay|     weather_delay|        nas_delay|   security_delay|late_aircraft_delay|\n",
      "+-------+-----------------+------------------+-------+--------------------+-------+--------------------+------------------+-----------------+------------------+------------------+------------------+-------------------+------------------+-----------------+------------------+------------------+------------------+------------------+-----------------+-----------------+-------------------+\n",
      "|  count|           171666|            171666| 171666|              171666| 171666|              171666|            171426|           171223|            171426|            171426|            171426|             171426|            171426|           171426|            171426|            171426|            171426|            171426|           171426|           171426|             171426|\n",
      "|   mean| 2018.55136136451| 6.493632984982466|   null|                null|   null|                null|362.52846709367304| 66.4343867354269|20.796615390897315|2.2503467385344065|19.381147083873312|0.15709629811113815|23.770554058310648|7.530497124123529|0.8633871174734288| 4239.487329809947|1437.1851236101875|222.56349678578513|920.6517039422258| 7.38272490754028|  1651.700063000945|\n",
      "| stddev|2.890006450497685|3.4409080484179646|   null|                null|   null|                null| 992.8946622226682|179.5406939410807| 50.31517570146938| 7.314252214447833| 61.67524399466602| 0.7174045750732787|  72.3934774941697| 43.6548798832069|3.7728531976101096|12618.566049584917| 4215.677812325296| 821.0865114691262|3423.509334952372|41.77998504856079|  5221.878385272271|\n",
      "|    min|             2013|                 1|     9E|AirTran Airways C...|    ABE|Aberdeen, SD: Abe...|               1.0|              0.0|               0.0|               0.0|               0.0|                0.0|               0.0|              0.0|               0.0|               0.0|               0.0|               0.0|              0.0|              0.0|                0.0|\n",
      "|    max|             2023|                12|     YX|      Virgin America|    YUM|Yuma, AZ: Yuma MC...|           21977.0|           4176.0|           1293.91|            266.42|           1884.42|              58.69|           2069.07|           4951.0|             197.0|          438783.0|          196944.0|           31960.0|         112018.0|           3760.0|           227959.0|\n",
      "+-------+-----------------+------------------+-------+--------------------+-------+--------------------+------------------+-----------------+------------------+------------------+------------------+-------------------+------------------+-----------------+------------------+------------------+------------------+------------------+-----------------+-----------------+-------------------+\n",
      "\n"
     ]
    }
   ],
   "source": [
    "# describe the statistical properties\n",
    "desc_df = df.describe()\n",
    "desc_df.show()"
   ]
  },
  {
   "cell_type": "code",
   "execution_count": 17,
   "metadata": {},
   "outputs": [
    {
     "name": "stdout",
     "output_type": "stream",
     "text": [
      "Calculation started (calculation_id=d8cc88cf-3da4-7d40-3919-3c0e0ab71bd0) in (session=6acc88c6-1880-c311-4c40-559f3e3797fe). Checking calculation status...\n"
     ]
    },
    {
     "data": {
      "application/vnd.jupyter.widget-view+json": {
       "model_id": "7f2ae25d23454a5aab65f619348f2026",
       "version_major": 2,
       "version_minor": 0
      },
      "text/plain": [
       "Progress:   0%|          |elapsed time = 00:00s"
      ]
     },
     "metadata": {},
     "output_type": "display_data"
    },
    {
     "name": "stdout",
     "output_type": "stream",
     "text": [
      "Calculation completed.\n",
      "+--------------------+------------------+\n",
      "|        carrier_name|    Average_Delays|\n",
      "+--------------------+------------------+\n",
      "|Southwest Airline...|11188.673778017823|\n",
      "|American Airlines...| 8782.900203148807|\n",
      "|United Air Lines ...| 6248.942300853485|\n",
      "|     JetBlue Airways| 6091.326271186441|\n",
      "|    Spirit Air Lines| 4808.278416347382|\n",
      "+--------------------+------------------+\n",
      "\n"
     ]
    }
   ],
   "source": [
    "# identify the airlines with top 5 delays\n",
    "delays_df = (df.groupBy(\"carrier_name\")\n",
    "              .agg(f.avg(\"arr_delay\").alias(\"Average_Delays\"))\n",
    "              .orderBy(f.desc(f.col(\"Average_Delays\"))).limit(5))\n",
    "\n",
    "delays_df.show()"
   ]
  },
  {
   "cell_type": "code",
   "execution_count": 23,
   "metadata": {},
   "outputs": [
    {
     "name": "stdout",
     "output_type": "stream",
     "text": [
      "Calculation started (calculation_id=5ccc88d4-1917-0c32-9179-5fb3cc99560d) in (session=6acc88c6-1880-c311-4c40-559f3e3797fe). Checking calculation status...\n"
     ]
    },
    {
     "data": {
      "application/vnd.jupyter.widget-view+json": {
       "model_id": "f3a67f5e20e8482cac211e0c1cbbd017",
       "version_major": 2,
       "version_minor": 0
      },
      "text/plain": [
       "Progress:   0%|          |elapsed time = 00:00s"
      ]
     },
     "metadata": {},
     "output_type": "display_data"
    },
    {
     "name": "stdout",
     "output_type": "stream",
     "text": [
      "Calculation completed.\n",
      "+-------+--------------------+------------------+\n",
      "|airport|        airport_name|Cancellation_Count|\n",
      "+-------+--------------------+------------------+\n",
      "|    ORD|Chicago, IL: Chic...|           80821.0|\n",
      "|    DFW|Dallas/Fort Worth...|           70542.0|\n",
      "|    LGA|New York, NY: LaG...|           46760.0|\n",
      "+-------+--------------------+------------------+\n",
      "\n"
     ]
    }
   ],
   "source": [
    "# discover the top three airports with the most cancellations\n",
    "airports_df = (df.groupBy(\"airport\",\"airport_name\")\n",
    "                 .agg(f.sum(\"arr_cancelled\").alias(\"Cancellation_Count\"))\n",
    "                 .orderBy(f.desc(f.col(\"Cancellation_Count\")))\n",
    "                 .limit(3)\n",
    ")\n",
    "               \n",
    "airports_df.show()"
   ]
  },
  {
   "cell_type": "code",
   "execution_count": 40,
   "metadata": {},
   "outputs": [
    {
     "name": "stdout",
     "output_type": "stream",
     "text": [
      "Calculation started (calculation_id=26cc88e2-734a-426c-5d7e-21b9884236c5) in (session=6acc88c6-1880-c311-4c40-559f3e3797fe). Checking calculation status...\n"
     ]
    },
    {
     "data": {
      "application/vnd.jupyter.widget-view+json": {
       "model_id": "fea190cf03ce4749a652af7d7e95a68d",
       "version_major": 2,
       "version_minor": 0
      },
      "text/plain": [
       "Progress:   0%|          |elapsed time = 00:00s"
      ]
     },
     "metadata": {},
     "output_type": "display_data"
    },
    {
     "name": "stdout",
     "output_type": "stream",
     "text": [
      "Calculation completed.\n",
      "+-------------+------------+\n",
      "|       reason| total_delay|\n",
      "+-------------+------------+\n",
      "|Late_Aircraft|2.83144335E8|\n",
      "|      Carrier|2.46370897E8|\n",
      "|          NAS|1.57823639E8|\n",
      "|      Weather|  3.815317E7|\n",
      "|     Security|   1265591.0|\n",
      "+-------------+------------+\n",
      "\n",
      "+-------------+------------+\n",
      "|       reason| total_delay|\n",
      "+-------------+------------+\n",
      "|Late_Aircraft|2.83144335E8|\n",
      "+-------------+------------+\n",
      "\n"
     ]
    }
   ],
   "source": [
    "# determine the most common reason for flight delays\n",
    "reason_df = (df.select(\n",
    "    f.sum(\"carrier_delay\").alias(\"Carrier\"), \n",
    "    f.sum(\"weather_delay\").alias(\"Weather\"),\n",
    "    f.sum(\"nas_delay\").alias(\"NAS\"),\n",
    "    f.sum(\"security_delay\").alias(\"Security\"),\n",
    "    f.sum(\"late_aircraft_delay\").alias(\"Late_Aircraft\"))\n",
    ")\n",
    "\n",
    "reason_long = (\n",
    "    reason_df.selectExpr(\n",
    "        \"stack(5,\"\n",
    "        \" 'Carrier', Carrier,\"\n",
    "        \" 'Weather', Weather,\"\n",
    "        \" 'NAS', NAS,\"\n",
    "        \" 'Security', Security,\"\n",
    "        \" 'Late_Aircraft', Late_Aircraft\"\n",
    "        \") as (reason, total_delay)\"\n",
    "    )\n",
    "    .orderBy(f.desc(\"total_delay\"))\n",
    ")\n",
    "\n",
    "reason_long.show()\n",
    "reason_long.limit(1).show()"
   ]
  },
  {
   "cell_type": "code",
   "execution_count": null,
   "metadata": {},
   "outputs": [],
   "source": []
  }
 ],
 "metadata": {
  "kernelspec": {
   "display_name": "Athena PySpark",
   "language": "python",
   "name": "kepler_python_kernel"
  },
  "language_info": {
   "codemirror_mode": {
    "name": "python",
    "version": 3
   },
   "file_extension": ".py",
   "mimetype": "text/x-python",
   "name": "Python_Session",
   "pygments_lexer": "python3"
  }
 },
 "nbformat": 4,
 "nbformat_minor": 1
}

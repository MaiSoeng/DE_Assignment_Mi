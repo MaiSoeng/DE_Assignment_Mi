{
 "cells": [
  {
   "cell_type": "code",
   "execution_count": 4,
   "id": "b52500c5",
   "metadata": {},
   "outputs": [
    {
     "name": "stdout",
     "output_type": "stream",
     "text": [
      "Collecting boto3\n",
      "  Downloading boto3-1.39.14-py3-none-any.whl.metadata (6.7 kB)\n",
      "Collecting botocore<1.40.0,>=1.39.14 (from boto3)\n",
      "  Downloading botocore-1.39.14-py3-none-any.whl.metadata (5.7 kB)\n",
      "Collecting jmespath<2.0.0,>=0.7.1 (from boto3)\n",
      "  Downloading jmespath-1.0.1-py3-none-any.whl.metadata (7.6 kB)\n",
      "Collecting s3transfer<0.14.0,>=0.13.0 (from boto3)\n",
      "  Downloading s3transfer-0.13.1-py3-none-any.whl.metadata (1.7 kB)\n",
      "Requirement already satisfied: python-dateutil<3.0.0,>=2.1 in c:\\users\\administrator\\anaconda3\\envs\\spark39\\lib\\site-packages (from botocore<1.40.0,>=1.39.14->boto3) (2.9.0.post0)\n",
      "Collecting urllib3<1.27,>=1.25.4 (from botocore<1.40.0,>=1.39.14->boto3)\n",
      "  Downloading urllib3-1.26.20-py2.py3-none-any.whl.metadata (50 kB)\n",
      "Requirement already satisfied: six>=1.5 in c:\\users\\administrator\\anaconda3\\envs\\spark39\\lib\\site-packages (from python-dateutil<3.0.0,>=2.1->botocore<1.40.0,>=1.39.14->boto3) (1.17.0)\n",
      "Downloading boto3-1.39.14-py3-none-any.whl (139 kB)\n",
      "Downloading botocore-1.39.14-py3-none-any.whl (13.9 MB)\n",
      "   ---------------------------------------- 0.0/13.9 MB ? eta -:--:--\n",
      "   -------------------------- ------------- 9.2/13.9 MB 47.4 MB/s eta 0:00:01\n",
      "   ---------------------------------------- 13.9/13.9 MB 45.9 MB/s eta 0:00:00\n",
      "Downloading jmespath-1.0.1-py3-none-any.whl (20 kB)\n",
      "Downloading s3transfer-0.13.1-py3-none-any.whl (85 kB)\n",
      "Downloading urllib3-1.26.20-py2.py3-none-any.whl (144 kB)\n",
      "Installing collected packages: urllib3, jmespath, botocore, s3transfer, boto3\n",
      "\n",
      "  Attempting uninstall: urllib3\n",
      "\n",
      "    Found existing installation: urllib3 2.5.0\n",
      "\n",
      "    Uninstalling urllib3-2.5.0:\n",
      "\n",
      "      Successfully uninstalled urllib3-2.5.0\n",
      "\n",
      "   ---------------------------------------- 0/5 [urllib3]\n",
      "   ---------------- ----------------------- 2/5 [botocore]\n",
      "   ---------------- ----------------------- 2/5 [botocore]\n",
      "   ---------------- ----------------------- 2/5 [botocore]\n",
      "   ---------------- ----------------------- 2/5 [botocore]\n",
      "   ---------------- ----------------------- 2/5 [botocore]\n",
      "   ---------------- ----------------------- 2/5 [botocore]\n",
      "   ---------------- ----------------------- 2/5 [botocore]\n",
      "   ---------------- ----------------------- 2/5 [botocore]\n",
      "   ---------------- ----------------------- 2/5 [botocore]\n",
      "   ---------------- ----------------------- 2/5 [botocore]\n",
      "   ---------------- ----------------------- 2/5 [botocore]\n",
      "   ---------------- ----------------------- 2/5 [botocore]\n",
      "   ------------------------ --------------- 3/5 [s3transfer]\n",
      "   -------------------------------- ------- 4/5 [boto3]\n",
      "   ---------------------------------------- 5/5 [boto3]\n",
      "\n",
      "Successfully installed boto3-1.39.14 botocore-1.39.14 jmespath-1.0.1 s3transfer-0.13.1 urllib3-1.26.20\n",
      "Note: you may need to restart the kernel to use updated packages.\n"
     ]
    }
   ],
   "source": [
    "%pip install boto3\n"
   ]
  },
  {
   "cell_type": "code",
   "execution_count": null,
   "id": "c4581972",
   "metadata": {},
   "outputs": [
    {
     "name": "stdout",
     "output_type": "stream",
     "text": [
      "+------------+-----------+------------+-----------+-----------+\n",
      "|sepal_length|sepal_width|petal_length|petal_width|      class|\n",
      "+------------+-----------+------------+-----------+-----------+\n",
      "|         5.1|        3.5|         1.4|        0.2|Iris-setosa|\n",
      "|         4.9|        3.0|         1.4|        0.2|Iris-setosa|\n",
      "|         4.7|        3.2|         1.3|        0.2|Iris-setosa|\n",
      "|         4.6|        3.1|         1.5|        0.2|Iris-setosa|\n",
      "|         5.0|        3.6|         1.4|        0.2|Iris-setosa|\n",
      "|         5.4|        3.9|         1.7|        0.4|Iris-setosa|\n",
      "|         4.6|        3.4|         1.4|        0.3|Iris-setosa|\n",
      "|         5.0|        3.4|         1.5|        0.2|Iris-setosa|\n",
      "|         4.4|        2.9|         1.4|        0.2|Iris-setosa|\n",
      "|         4.9|        3.1|         1.5|        0.1|Iris-setosa|\n",
      "|         5.4|        3.7|         1.5|        0.2|Iris-setosa|\n",
      "|         4.8|        3.4|         1.6|        0.2|Iris-setosa|\n",
      "|         4.8|        3.0|         1.4|        0.1|Iris-setosa|\n",
      "|         4.3|        3.0|         1.1|        0.1|Iris-setosa|\n",
      "|         5.8|        4.0|         1.2|        0.2|Iris-setosa|\n",
      "|         5.7|        4.4|         1.5|        0.4|Iris-setosa|\n",
      "|         5.4|        3.9|         1.3|        0.4|Iris-setosa|\n",
      "|         5.1|        3.5|         1.4|        0.3|Iris-setosa|\n",
      "|         5.7|        3.8|         1.7|        0.3|Iris-setosa|\n",
      "|         5.1|        3.8|         1.5|        0.3|Iris-setosa|\n",
      "+------------+-----------+------------+-----------+-----------+\n",
      "only showing top 20 rows\n",
      "\n",
      "None\n"
     ]
    }
   ],
   "source": [
    "import boto3\n",
    "from pyspark.sql import SparkSession\n",
    "from pyspark.sql.types import StructType, StructField, StringType, FloatType\n",
    "\n",
    "spark = SparkSession.builder.appName(\"S3 iris\").getOrCreate()\n",
    "sc = spark.sparkContext\n",
    "\n",
    "# get the iris data from the specific s3 bucket\n",
    "s3 = boto3.client(\"s3\")\n",
    "bucket_name = \"assignment14irisdatasets\"\n",
    "file_name = \"iris.data\"\n",
    "s3.download_file(bucket_name, file_name, file_name)\n",
    "\n",
    "# the schema of the iris data\n",
    "schema = StructType([\n",
    "    StructField(\"sepal_length\", FloatType(), True),\n",
    "    StructField(\"sepal_width\", FloatType(), True),\n",
    "    StructField(\"petal_length\", FloatType(), True),\n",
    "    StructField(\"petal_width\", FloatType(), True),\n",
    "    StructField(\"class\", StringType(), True),\n",
    "])\n",
    "\n",
    "# read the iris data from the specific s3 bucket as dataframe\n",
    "df = spark.read.csv(file_name, header = False, schema = schema)\n",
    "\n",
    "# turn the dataframe into a temporary table\n",
    "df.createOrReplaceTempView(\"iris\")\n",
    "\n",
    "# print some data to verify the data is read correctly\n",
    "print(df.show())"
   ]
  },
  {
   "cell_type": "code",
   "execution_count": 2,
   "id": "3d982cb3-c1da-495c-8a73-4ebf74802d52",
   "metadata": {},
   "outputs": [
    {
     "name": "stdout",
     "output_type": "stream",
     "text": [
      "+---------------+-----+\n",
      "|          class|count|\n",
      "+---------------+-----+\n",
      "| Iris-virginica|   50|\n",
      "|    Iris-setosa|   50|\n",
      "|Iris-versicolor|   50|\n",
      "+---------------+-----+\n",
      "\n"
     ]
    }
   ],
   "source": [
    "# run the SQL search\n",
    "query = \"\"\"SELECT class, COUNT(*) as count\n",
    "           FROM iris \n",
    "           GROUP BY class\"\"\"\n",
    "result = spark.sql(query)\n",
    "result.show()"
   ]
  },
  {
   "cell_type": "code",
   "execution_count": 3,
   "id": "0d7e8d20-ba41-4a05-ab91-4175b1ffcc03",
   "metadata": {},
   "outputs": [
    {
     "name": "stdout",
     "output_type": "stream",
     "text": [
      "+---------------+------------------+\n",
      "|          class|  avg_petal_length|\n",
      "+---------------+------------------+\n",
      "| Iris-virginica| 5.551999988555909|\n",
      "|    Iris-setosa|1.4639999961853027|\n",
      "|Iris-versicolor| 4.259999980926514|\n",
      "+---------------+------------------+\n",
      "\n"
     ]
    }
   ],
   "source": [
    "#2. find the average sepal length of each class\n",
    "query = \"\"\"\n",
    "        SELECT class, AVG(petal_length) as avg_petal_length\n",
    "        FROM iris\n",
    "        GROUP BY class\n",
    "        \"\"\"\n",
    "result = spark.sql(query)\n",
    "result.show()"
   ]
  },
  {
   "cell_type": "code",
   "execution_count": 4,
   "id": "90068ab7-08a6-473e-895e-511c52e671af",
   "metadata": {},
   "outputs": [
    {
     "name": "stdout",
     "output_type": "stream",
     "text": [
      "+-----------+----------------+\n",
      "|      class| avg_sepal_width|\n",
      "+-----------+----------------+\n",
      "|Iris-setosa|3.41800000667572|\n",
      "+-----------+----------------+\n",
      "\n"
     ]
    }
   ],
   "source": [
    "#3. find the species with maximum average sepal width\n",
    "# calculate the average sepal width for each class and order by descending order, then select the top 1\n",
    "query = \"\"\"\n",
    "        SELECT class, AVG(sepal_width) as avg_sepal_width\n",
    "        FROM iris\n",
    "        GROUP BY class\n",
    "        ORDER BY avg_sepal_width DESC\n",
    "        LIMIT 1\n",
    "        \"\"\"\n",
    "result = spark.sql(query)\n",
    "result.show()\n"
   ]
  },
  {
   "cell_type": "code",
   "execution_count": null,
   "id": "2148634d-c5a7-4335-a2c9-55e0fad80075",
   "metadata": {},
   "outputs": [],
   "source": []
  }
 ],
 "metadata": {
  "kernelspec": {
   "display_name": "spark39",
   "language": "python",
   "name": "python3"
  },
  "language_info": {
   "codemirror_mode": {
    "name": "ipython",
    "version": 3
   },
   "file_extension": ".py",
   "mimetype": "text/x-python",
   "name": "python",
   "nbconvert_exporter": "python",
   "pygments_lexer": "ipython3",
   "version": "3.9.23"
  }
 },
 "nbformat": 4,
 "nbformat_minor": 5
}

{
	"metadata": {
		"kernelspec": {
			"name": "glue_pyspark",
			"display_name": "Glue PySpark",
			"language": "python"
		},
		"language_info": {
			"name": "Python_Glue_Session",
			"mimetype": "text/x-python",
			"codemirror_mode": {
				"name": "python",
				"version": 3
			},
			"pygments_lexer": "python3",
			"file_extension": ".py"
		}
	},
	"nbformat_minor": 4,
	"nbformat": 4,
	"cells": [
		{
			"cell_type": "markdown",
			"source": "# AWS Glue Studio Notebook\n##### You are now running a AWS Glue Studio notebook; To start using your notebook you need to start an AWS Glue Interactive Session.\n",
			"metadata": {
				"editable": true,
				"trusted": true
			}
		},
		{
			"cell_type": "markdown",
			"source": "#### Optional: Run this cell to see available notebook commands (\"magics\").\n",
			"metadata": {
				"editable": true,
				"trusted": true
			}
		},
		{
			"cell_type": "code",
			"source": "%help",
			"metadata": {
				"trusted": true,
				"editable": true
			},
			"execution_count": null,
			"outputs": []
		},
		{
			"cell_type": "markdown",
			"source": "####  Run this cell to set up and start your interactive session.\n",
			"metadata": {
				"editable": true,
				"trusted": true
			}
		},
		{
			"cell_type": "code",
			"source": "%idle_timeout 2880\n%glue_version 5.0\n%worker_type G.1X\n%number_of_workers 5\n\nimport sys\nfrom awsglue.transforms import *\nfrom awsglue.utils import getResolvedOptions\nfrom pyspark.context import SparkContext\nfrom awsglue.context import GlueContext\nfrom awsglue.job import Job\n\nJOB_NAME = \"HW17-DA-Part2\"\nargs = {'JOB_NAME': JOB_NAME}\n  \nsc = SparkContext.getOrCreate()\nglueContext = GlueContext(sc)\nspark = glueContext.spark_session\njob = Job(glueContext)\njob.init(JOB_NAME, args)",
			"metadata": {
				"trusted": true,
				"editable": true
			},
			"execution_count": 2,
			"outputs": [
				{
					"name": "stderr",
					"text": "You are already connected to a glueetl session 06c17116-d14c-42c7-bd3f-de1d37a7c53e.\n\nNo change will be made to the current session that is set as glueetl. The session configuration change will apply to newly created sessions.\n",
					"output_type": "stream"
				},
				{
					"name": "stdout",
					"text": "Current idle_timeout is None minutes.\nidle_timeout has been set to 2880 minutes.\n",
					"output_type": "stream"
				},
				{
					"name": "stderr",
					"text": "You are already connected to a glueetl session 06c17116-d14c-42c7-bd3f-de1d37a7c53e.\n\nNo change will be made to the current session that is set as glueetl. The session configuration change will apply to newly created sessions.\n",
					"output_type": "stream"
				},
				{
					"name": "stdout",
					"text": "Setting Glue version to: 5.0\n",
					"output_type": "stream"
				},
				{
					"name": "stderr",
					"text": "You are already connected to a glueetl session 06c17116-d14c-42c7-bd3f-de1d37a7c53e.\n\nNo change will be made to the current session that is set as glueetl. The session configuration change will apply to newly created sessions.\n",
					"output_type": "stream"
				},
				{
					"name": "stdout",
					"text": "Previous worker type: None\nSetting new worker type to: G.1X\n",
					"output_type": "stream"
				},
				{
					"name": "stderr",
					"text": "You are already connected to a glueetl session 06c17116-d14c-42c7-bd3f-de1d37a7c53e.\n\nNo change will be made to the current session that is set as glueetl. The session configuration change will apply to newly created sessions.\n",
					"output_type": "stream"
				},
				{
					"name": "stdout",
					"text": "Previous number of workers: None\nSetting new number of workers to: 5\n\n",
					"output_type": "stream"
				}
			]
		},
		{
			"cell_type": "markdown",
			"source": "#### Example: Create a DynamicFrame from a table in the AWS Glue Data Catalog and display its schema\n",
			"metadata": {
				"editable": true,
				"trusted": true
			}
		},
		{
			"cell_type": "code",
			"source": "S3_INPUT = \"s3://hw17-part2/processed_data/\"\ndf = spark.read.parquet(S3_INPUT)\ndf.show()",
			"metadata": {
				"trusted": true,
				"editable": true
			},
			"execution_count": 3,
			"outputs": [
				{
					"name": "stdout",
					"text": "+-----------+--------+------+--------------------+------+----+-----+-----+-------+--------+-----------+\n|PassengerID|Survived|Pclass|                Name|   Sex| Age|SibSp|Parch|   Fare|Embarked|family_size|\n+-----------+--------+------+--------------------+------+----+-----+-----+-------+--------+-----------+\n|          1|       0|     3|Braund, Mr. Owen ...|  male|22.0|    1|    0|   7.25|       S|          2|\n|          2|       1|     1|Cumings, Mrs. Joh...|female|38.0|    1|    0|71.2833|       C|          2|\n|          3|       1|     3|Heikkinen, Miss. ...|female|26.0|    0|    0|  7.925|       S|          1|\n|          4|       1|     1|Futrelle, Mrs. Ja...|female|35.0|    1|    0|   53.1|       S|          2|\n|          5|       0|     3|Allen, Mr. Willia...|  male|35.0|    0|    0|   8.05|       S|          1|\n|          7|       0|     1|McCarthy, Mr. Tim...|  male|54.0|    0|    0|51.8625|       S|          1|\n|          8|       0|     3|Palsson, Master. ...|  male| 2.0|    3|    1| 21.075|       S|          5|\n|          9|       1|     3|Johnson, Mrs. Osc...|female|27.0|    0|    2|11.1333|       S|          3|\n|         10|       1|     2|Nasser, Mrs. Nich...|female|14.0|    1|    0|30.0708|       C|          2|\n|         11|       1|     3|Sandstrom, Miss. ...|female| 4.0|    1|    1|   16.7|       S|          3|\n|         12|       1|     1|Bonnell, Miss. El...|female|58.0|    0|    0|  26.55|       S|          1|\n|         13|       0|     3|Saundercock, Mr. ...|  male|20.0|    0|    0|   8.05|       S|          1|\n|         14|       0|     3|Andersson, Mr. An...|  male|39.0|    1|    5| 31.275|       S|          7|\n|         15|       0|     3|Vestrom, Miss. Hu...|female|14.0|    0|    0| 7.8542|       S|          1|\n|         16|       1|     2|Hewlett, Mrs. (Ma...|female|55.0|    0|    0|   16.0|       S|          1|\n|         17|       0|     3|Rice, Master. Eugene|  male| 2.0|    4|    1| 29.125|       Q|          6|\n|         19|       0|     3|Vander Planke, Mr...|female|31.0|    1|    0|   18.0|       S|          2|\n|         21|       0|     2|Fynney, Mr. Joseph J|  male|35.0|    0|    0|   26.0|       S|          1|\n|         22|       1|     2|Beesley, Mr. Lawr...|  male|34.0|    0|    0|   13.0|       S|          1|\n|         23|       1|     3|\"McGowan, Miss. A...|female|15.0|    0|    0| 8.0292|       Q|          1|\n+-----------+--------+------+--------------------+------+----+-----+-----+-------+--------+-----------+\nonly showing top 20 rows\n",
					"output_type": "stream"
				}
			]
		},
		{
			"cell_type": "code",
			"source": "from pyspark.sql import functions as f\n# categorize the passengers to different age groups\ndf_age_groups = df.withColumn(\"age_groups\",\n                              f.when(f.col(\"Age\") < 5, \"baby\")\n                               .when((f.col(\"Age\") >= 5) & (f.col(\"Age\") < 18), \"teenagers\")\n                               .when((f.col(\"Age\") >= 18) & (f.col(\"Age\") < 28), \"youth\")\n                               .when((f.col(\"Age\") >= 28) & (f.col(\"Age\") < 40), \"adults\")\n                               .when((f.col(\"Age\") >= 40) & (f.col(\"Age\") < 65), \"middle-aged\")\n                               .when(f.col(\"Age\") >= 65, \"elderly\")\n)\n\ndf_age_groups.show()",
			"metadata": {
				"trusted": true,
				"editable": true
			},
			"execution_count": 8,
			"outputs": [
				{
					"name": "stdout",
					"text": "+-----------+--------+------+--------------------+------+----+-----+-----+-------+--------+-----------+-----------+\n|PassengerID|Survived|Pclass|                Name|   Sex| Age|SibSp|Parch|   Fare|Embarked|family_size| age_groups|\n+-----------+--------+------+--------------------+------+----+-----+-----+-------+--------+-----------+-----------+\n|          1|       0|     3|Braund, Mr. Owen ...|  male|22.0|    1|    0|   7.25|       S|          2|      youth|\n|          2|       1|     1|Cumings, Mrs. Joh...|female|38.0|    1|    0|71.2833|       C|          2|     adults|\n|          3|       1|     3|Heikkinen, Miss. ...|female|26.0|    0|    0|  7.925|       S|          1|      youth|\n|          4|       1|     1|Futrelle, Mrs. Ja...|female|35.0|    1|    0|   53.1|       S|          2|     adults|\n|          5|       0|     3|Allen, Mr. Willia...|  male|35.0|    0|    0|   8.05|       S|          1|     adults|\n|          7|       0|     1|McCarthy, Mr. Tim...|  male|54.0|    0|    0|51.8625|       S|          1|middle-aged|\n|          8|       0|     3|Palsson, Master. ...|  male| 2.0|    3|    1| 21.075|       S|          5|       baby|\n|          9|       1|     3|Johnson, Mrs. Osc...|female|27.0|    0|    2|11.1333|       S|          3|      youth|\n|         10|       1|     2|Nasser, Mrs. Nich...|female|14.0|    1|    0|30.0708|       C|          2|  teenagers|\n|         11|       1|     3|Sandstrom, Miss. ...|female| 4.0|    1|    1|   16.7|       S|          3|       baby|\n|         12|       1|     1|Bonnell, Miss. El...|female|58.0|    0|    0|  26.55|       S|          1|middle-aged|\n|         13|       0|     3|Saundercock, Mr. ...|  male|20.0|    0|    0|   8.05|       S|          1|      youth|\n|         14|       0|     3|Andersson, Mr. An...|  male|39.0|    1|    5| 31.275|       S|          7|     adults|\n|         15|       0|     3|Vestrom, Miss. Hu...|female|14.0|    0|    0| 7.8542|       S|          1|  teenagers|\n|         16|       1|     2|Hewlett, Mrs. (Ma...|female|55.0|    0|    0|   16.0|       S|          1|middle-aged|\n|         17|       0|     3|Rice, Master. Eugene|  male| 2.0|    4|    1| 29.125|       Q|          6|       baby|\n|         19|       0|     3|Vander Planke, Mr...|female|31.0|    1|    0|   18.0|       S|          2|     adults|\n|         21|       0|     2|Fynney, Mr. Joseph J|  male|35.0|    0|    0|   26.0|       S|          1|     adults|\n|         22|       1|     2|Beesley, Mr. Lawr...|  male|34.0|    0|    0|   13.0|       S|          1|     adults|\n|         23|       1|     3|\"McGowan, Miss. A...|female|15.0|    0|    0| 8.0292|       Q|          1|  teenagers|\n+-----------+--------+------+--------------------+------+----+-----+-----+-------+--------+-----------+-----------+\nonly showing top 20 rows\n",
					"output_type": "stream"
				}
			]
		},
		{
			"cell_type": "code",
			"source": "# perform explotary analysis\n# first, find out the number of people who broad the ship and the survivors, we can calculate the survival rate accordingly\ndf_age_count = df_age_groups.groupBy(\"age_groups\") \\\n                            .agg(f.count(f.when(f.col(\"Survived\") == 1, 1)).alias(\"Survivors\"),\n                                f.count(f.when(f.col(\"Survived\") == 0, 1)).alias(\"Non_Survivors\"),\n                                f.count(\"*\").alias(\"Total_People\")\n                                )\ndf_age_count = df_age_count.withColumn(\"Survival_Rate\", f.round(f.col(\"Survivors\") / f.col(\"Total_People\"), 4))\ndf_age_count.show()",
			"metadata": {
				"trusted": true,
				"tags": []
			},
			"execution_count": 12,
			"outputs": [
				{
					"name": "stdout",
					"text": "+-----------+---------+-------------+------------+-------------+\n| age_groups|Survivors|Non_Survivors|Total_People|Survival_Rate|\n+-----------+---------+-------------+------------+-------------+\n|    elderly|        1|           10|          11|       0.0909|\n|middle-aged|       60|           92|         152|       0.3947|\n|      youth|       80|          144|         224|       0.3571|\n|       baby|       27|           13|          40|        0.675|\n|  teenagers|       34|           39|          73|       0.4658|\n|     adults|       88|          126|         214|       0.4112|\n+-----------+---------+-------------+------------+-------------+\n",
					"output_type": "stream"
				}
			]
		},
		{
			"cell_type": "code",
			"source": "# second, we can find the average ship fee for each class, and the survival rate accordingly\ndf_class = df_age_groups.groupBy(\"Pclass\") \\\n                        .agg(f.count(f.when(f.col(\"Survived\") == 1, 1)).alias(\"Survivors\"),\n                             f.count(f.when(f.col(\"Survived\") == 0, 1)).alias(\"Non_Survivors\"),\n                             f.count(\"*\").alias(\"Total_Class_People\"),\n                             f.round(f.avg(f.col(\"fare\")), 4).alias(\"Average_Fare\")\n                            ).orderBy(f.asc(\"Pclass\"))\ndf_class = df_class.withColumn(\"Survival_Rate\", f.round(f.col(\"Survivors\") / f.col(\"Total_Class_People\"), 4))\ndf_class.show()",
			"metadata": {
				"trusted": true,
				"tags": []
			},
			"execution_count": 20,
			"outputs": [
				{
					"name": "stdout",
					"text": "+------+---------+-------------+------------------+------------+-------------+\n|Pclass|Survivors|Non_Survivors|Total_Class_People|Average_Fare|Survival_Rate|\n+------+---------+-------------+------------------+------------+-------------+\n|     1|      122|           64|               186|     87.9616|       0.6559|\n|     2|       83|           90|               173|     21.4716|       0.4798|\n|     3|       85|          270|               355|     13.2294|       0.2394|\n+------+---------+-------------+------------------+------------+-------------+\n",
					"output_type": "stream"
				}
			]
		},
		{
			"cell_type": "code",
			"source": "# third, we can find the survival rate associate with gender\ndf_gender = df_age_groups.groupBy(\"Sex\") \\\n                         .agg(f.count(\"*\").alias(\"Total\"),\n                              f.count(f.when(f.col(\"Survived\") == 1, 1)).alias(\"Survivors\"),\n                             )\ndf_gender = df_gender.withColumn(\"Survival_Rate\", f.round(f.col(\"Survivors\") / f.col(\"Total\"), 4))\ndf_gender.show()",
			"metadata": {
				"trusted": true,
				"tags": []
			},
			"execution_count": 32,
			"outputs": [
				{
					"name": "stdout",
					"text": "+------+-----+---------+-------------+\n|   Sex|Total|Survivors|Survival_Rate|\n+------+-----+---------+-------------+\n|  male|  453|       93|       0.2053|\n|female|  261|      197|       0.7548|\n+------+-----+---------+-------------+\n",
					"output_type": "stream"
				}
			]
		},
		{
			"cell_type": "code",
			"source": "# forth, we can do survival rate and family size\ndf_family = df_age_groups.groupBy(\"family_size\") \\\n                         .agg(f.count(\"*\").alias(\"Total\"),\n                              f.count(f.when(f.col(\"Survived\") == 1, 1)).alias(\"Survivors\"),\n                             ).orderBy(f.asc(f.col(\"family_size\")))\ndf_family = df_family.withColumn(\"Survival_Rate\", f.round(f.col(\"Survivors\") / f.col(\"Total\"), 4))\ndf_family.show()",
			"metadata": {
				"trusted": true,
				"tags": []
			},
			"execution_count": 34,
			"outputs": [
				{
					"name": "stdout",
					"text": "+-----------+-----+---------+-------------+\n|family_size|Total|Survivors|Survival_Rate|\n+-----------+-----+---------+-------------+\n|          1|  404|      130|       0.3218|\n|          2|  139|       76|       0.5468|\n|          3|   93|       53|       0.5699|\n|          4|   27|       21|       0.7778|\n|          5|   11|        3|       0.2727|\n|          6|   22|        3|       0.1364|\n|          7|   12|        4|       0.3333|\n|          8|    6|        0|          0.0|\n+-----------+-----+---------+-------------+\n",
					"output_type": "stream"
				}
			]
		},
		{
			"cell_type": "markdown",
			"source": "#### Example: Write the data in the DynamicFrame to a location in Amazon S3 and a table for it in the AWS Glue Data Catalog\n",
			"metadata": {
				"editable": true,
				"trusted": true
			}
		},
		{
			"cell_type": "code",
			"source": "from awsglue.dynamicframe import DynamicFrame\nS3_OUTPUT = \"s3://hw17-part2/DA_results/\"\n\ndef write_out(df_out):\n    # exchange the format: from spark dataframe to Glue dataframe\n    dyf_out = DynamicFrame.fromDF(df_out, glueContext, \"dyf_out\")\n    glueContext.write_dynamic_frame.from_options(\n        frame = dyf_out,\n        connection_type = \"s3\",\n        format = \"csv\",\n        connection_options = {\n            \"path\": S3_OUTPUT,  \n        },\n        format_options = {\"withHeader\": True},\n     )\n\nwrite_out(df_age_groups)\nwrite_out(df_age_count)\nwrite_out(df_class)\nwrite_out(df_gender)\nwrite_out(df_family)",
			"metadata": {
				"trusted": true,
				"editable": true
			},
			"execution_count": 40,
			"outputs": [
				{
					"name": "stdout",
					"text": "\n",
					"output_type": "stream"
				}
			]
		},
		{
			"cell_type": "code",
			"source": "job.commit()",
			"metadata": {
				"trusted": true,
				"tags": []
			},
			"execution_count": 41,
			"outputs": [
				{
					"name": "stdout",
					"text": "\n",
					"output_type": "stream"
				}
			]
		},
		{
			"cell_type": "code",
			"source": "",
			"metadata": {},
			"execution_count": null,
			"outputs": []
		}
	]
}